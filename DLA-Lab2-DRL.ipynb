{
 "cells": [
  {
   "cell_type": "markdown",
   "id": "f6ae2782-57ea-48f0-b948-b412d0076ffc",
   "metadata": {},
   "source": [
    "# Deep Reinforcement Learning Laboratory\n",
    "\n",
    "In this laboratory session we will work on getting more advanced versions of Deep Reinforcement Learning algorithms up and running. Deep Reinforcement Learning is **hard**, and getting agents to stably train can be frustrating and requires quite a bit of subtlety in analysis of intermediate results. We will start by refactoring (a bit) my implementation of `REINFORCE` on the [Cartpole environment](https://gymnasium.farama.org/environments/classic_control/cart_pole/). "
   ]
  },
  {
   "cell_type": "markdown",
   "id": "3fadaf0c-f9b2-4680-8456-0eadb5eb8c2f",
   "metadata": {},
   "source": [
    "## Exercise 1: Improving my `REINFORCE` Implementation (warm up)\n",
    "\n",
    "In this exercise we will refactor a bit and improve some aspects of my `REINFORCE` implementation. \n",
    "\n",
    "**First Things First**: Spend some time playing with the environment to make sure you understand how it works."
   ]
  },
  {
   "cell_type": "code",
   "id": "241e9bdc-7aa9-4a12-a57f-088fdc87eab6",
   "metadata": {
    "ExecuteTime": {
     "end_time": "2025-03-31T10:22:44.536915Z",
     "start_time": "2025-03-31T10:22:41.456522Z"
    }
   },
   "source": [
    "import gymnasium as gym\n",
    "import numpy as np\n",
    "import torch\n",
    "import torch.nn as nn\n",
    "import torch.optim as optim\n",
    "import torch.nn.functional as F\n",
    "from torch.distributions import Categorical\n",
    "import matplotlib.pyplot as plt\n",
    "import pygame\n",
    "\n",
    "# Instantiate a rendering and a non-rendering environment.\n",
    "env_render = gym.make('CartPole-v1', render_mode='human')\n",
    "env = gym.make('CartPole-v1')"
   ],
   "outputs": [],
   "execution_count": 1
  },
  {
   "metadata": {
    "ExecuteTime": {
     "end_time": "2025-03-31T10:22:58.005872Z",
     "start_time": "2025-03-31T10:22:54.260113Z"
    }
   },
   "cell_type": "code",
   "source": [
    "import wandb\n",
    "\n",
    "# Inizializza Weights & Biases\n",
    "wandb.init(project=\"reinforce-cartpole\", name=\"policy_gradient_run\")"
   ],
   "id": "a8640d7683a1d4a9",
   "outputs": [
    {
     "name": "stderr",
     "output_type": "stream",
     "text": [
      "wandb: Using wandb-core as the SDK backend.  Please refer to https://wandb.me/wandb-core for more information.\n",
      "wandb: Currently logged in as: marco-digesare (marco-digesare-university-of-florence) to https://api.wandb.ai. Use `wandb login --relogin` to force relogin\n"
     ]
    },
    {
     "data": {
      "text/plain": [
       "<IPython.core.display.HTML object>"
      ],
      "text/html": [
       "Tracking run with wandb version 0.19.8"
      ]
     },
     "metadata": {},
     "output_type": "display_data"
    },
    {
     "data": {
      "text/plain": [
       "<IPython.core.display.HTML object>"
      ],
      "text/html": [
       "Run data is saved locally in <code>C:\\Università\\Deep Learning Applications\\wandb\\run-20250331_122257-fzx717x4</code>"
      ]
     },
     "metadata": {},
     "output_type": "display_data"
    },
    {
     "data": {
      "text/plain": [
       "<IPython.core.display.HTML object>"
      ],
      "text/html": [
       "Syncing run <strong><a href='https://wandb.ai/marco-digesare-university-of-florence/reinforce-cartpole/runs/fzx717x4' target=\"_blank\">policy_gradient_run</a></strong> to <a href='https://wandb.ai/marco-digesare-university-of-florence/reinforce-cartpole' target=\"_blank\">Weights & Biases</a> (<a href='https://wandb.me/developer-guide' target=\"_blank\">docs</a>)<br>"
      ]
     },
     "metadata": {},
     "output_type": "display_data"
    },
    {
     "data": {
      "text/plain": [
       "<IPython.core.display.HTML object>"
      ],
      "text/html": [
       " View project at <a href='https://wandb.ai/marco-digesare-university-of-florence/reinforce-cartpole' target=\"_blank\">https://wandb.ai/marco-digesare-university-of-florence/reinforce-cartpole</a>"
      ]
     },
     "metadata": {},
     "output_type": "display_data"
    },
    {
     "data": {
      "text/plain": [
       "<IPython.core.display.HTML object>"
      ],
      "text/html": [
       " View run at <a href='https://wandb.ai/marco-digesare-university-of-florence/reinforce-cartpole/runs/fzx717x4' target=\"_blank\">https://wandb.ai/marco-digesare-university-of-florence/reinforce-cartpole/runs/fzx717x4</a>"
      ]
     },
     "metadata": {},
     "output_type": "display_data"
    },
    {
     "data": {
      "text/html": [
       "<button onClick=\"this.nextSibling.style.display='block';this.style.display='none';\">Display W&B run</button><iframe src='https://wandb.ai/marco-digesare-university-of-florence/reinforce-cartpole/runs/fzx717x4?jupyter=true' style='border:none;width:100%;height:420px;display:none;'></iframe>"
      ],
      "text/plain": [
       "<wandb.sdk.wandb_run.Run at 0x251d91bbcd0>"
      ]
     },
     "execution_count": 2,
     "metadata": {},
     "output_type": "execute_result"
    }
   ],
   "execution_count": 2
  },
  {
   "metadata": {
    "ExecuteTime": {
     "end_time": "2025-03-31T09:51:11.010717Z",
     "start_time": "2025-03-31T09:51:11.003413Z"
    }
   },
   "cell_type": "code",
   "source": [
    "(obs, info) = env.reset()\n",
    "env.action_space # return the action space of the environment"
   ],
   "id": "c775d1e7b0a51716",
   "outputs": [
    {
     "data": {
      "text/plain": [
       "Discrete(2)"
      ]
     },
     "execution_count": 38,
     "metadata": {},
     "output_type": "execute_result"
    }
   ],
   "execution_count": 38
  },
  {
   "metadata": {
    "ExecuteTime": {
     "end_time": "2025-03-31T09:51:11.506436Z",
     "start_time": "2025-03-31T09:51:11.499877Z"
    }
   },
   "cell_type": "code",
   "source": "env.observation_space # return the observation space of the environment",
   "id": "30a176e18810ea81",
   "outputs": [
    {
     "data": {
      "text/plain": [
       "Box([-4.8               -inf -0.41887903        -inf], [4.8               inf 0.41887903        inf], (4,), float32)"
      ]
     },
     "execution_count": 39,
     "metadata": {},
     "output_type": "execute_result"
    }
   ],
   "execution_count": 39
  },
  {
   "metadata": {
    "ExecuteTime": {
     "end_time": "2025-03-31T09:51:11.972850Z",
     "start_time": "2025-03-31T09:51:11.966756Z"
    }
   },
   "cell_type": "code",
   "source": [
    "# at first we reset to the middle the pendulum position and add noise (it makes the pendulum swing a bit)\n",
    "obs # print the observation"
   ],
   "id": "be663aae8d3e8e8b",
   "outputs": [
    {
     "data": {
      "text/plain": [
       "array([ 0.04441478, -0.04412647,  0.04048895, -0.03495523], dtype=float32)"
      ]
     },
     "execution_count": 40,
     "metadata": {},
     "output_type": "execute_result"
    }
   ],
   "execution_count": 40
  },
  {
   "metadata": {
    "ExecuteTime": {
     "end_time": "2025-03-31T09:51:12.611146Z",
     "start_time": "2025-03-31T09:51:12.605563Z"
    }
   },
   "cell_type": "code",
   "source": "env.spec.pprint() # print the environment specification",
   "id": "16b294711da04412",
   "outputs": [
    {
     "name": "stdout",
     "output_type": "stream",
     "text": [
      "id=CartPole-v1\n",
      "reward_threshold=475.0\n",
      "max_episode_steps=500\n"
     ]
    }
   ],
   "execution_count": 41
  },
  {
   "metadata": {
    "ExecuteTime": {
     "end_time": "2025-03-31T09:51:13.975429Z",
     "start_time": "2025-03-31T09:51:13.969370Z"
    }
   },
   "cell_type": "code",
   "source": [
    "# policy network\n",
    "class PolicyNet(nn.Module):\n",
    "    def __init__(self, env):\n",
    "        super(PolicyNet, self).__init__()\n",
    "        self.fc1 = nn.Linear(env.observation_space.shape[0], 128)\n",
    "        self.fc3 = nn.Linear(128, env.action_space.n)\n",
    "\n",
    "    def forward(self, x):\n",
    "        x = F.relu(self.fc1(x))\n",
    "        return F.softmax(self.fc3(x), dim=-1)"
   ],
   "id": "f41c168f5f75b437",
   "outputs": [],
   "execution_count": 42
  },
  {
   "metadata": {
    "ExecuteTime": {
     "end_time": "2025-03-31T09:45:21.617022Z",
     "start_time": "2025-03-31T09:45:21.606883Z"
    }
   },
   "cell_type": "code",
   "source": [
    "# reinforce algorithm\n",
    "class Reinforce:\n",
    "    def __init__(self, policy, env, gamma=0.99, num_episodes=10):\n",
    "        self.policy = policy\n",
    "        self.env = env\n",
    "        self.gamma = gamma\n",
    "        self.num_episodes = num_episodes\n",
    "        self.opt = optim.Adam(policy.parameters(), lr=1e-2) # Adam optimizer\n",
    "\n",
    "    def run_episode(self):\n",
    "        obs, info = self.env.reset()\n",
    "        rewards = []\n",
    "        log_probs = []\n",
    "        actions = []\n",
    "\n",
    "        done = False\n",
    "        while not done:\n",
    "            action_probs = self.policy(torch.tensor(obs, dtype=torch.float32))\n",
    "            action = torch.multinomial(action_probs, 1).item()\n",
    "            log_prob = torch.log(action_probs[action])\n",
    "\n",
    "            obs, reward, terminated, truncated, info = self.env.step(action)\n",
    "            rewards.append(reward)\n",
    "            log_probs.append(log_prob)\n",
    "            actions.append(action)\n",
    "\n",
    "            done = terminated or truncated\n",
    "\n",
    "        return rewards, log_probs, actions"
   ],
   "id": "52fe42bade9b851c",
   "outputs": [],
   "execution_count": 21
  },
  {
   "metadata": {
    "ExecuteTime": {
     "end_time": "2025-03-31T09:46:30.715484Z",
     "start_time": "2025-03-31T09:46:30.666772Z"
    }
   },
   "cell_type": "code",
   "source": [
    "# example of running an episode\n",
    "policy = PolicyNet(env)\n",
    "reinforce = Reinforce(policy, env)\n",
    "for i in range(10):\n",
    "    # run an episode\n",
    "    rewards, log_probs, actions = reinforce.run_episode()\n",
    "    print(f\"Episode {i+1}: Total Reward: {sum(rewards)}\")\n"
   ],
   "id": "56130c0b361b351f",
   "outputs": [
    {
     "name": "stdout",
     "output_type": "stream",
     "text": [
      "Episode 1: Total Reward: 11.0\n",
      "Episode 2: Total Reward: 34.0\n",
      "Episode 3: Total Reward: 16.0\n",
      "Episode 4: Total Reward: 31.0\n",
      "Episode 5: Total Reward: 14.0\n",
      "Episode 6: Total Reward: 15.0\n",
      "Episode 7: Total Reward: 10.0\n",
      "Episode 8: Total Reward: 22.0\n",
      "Episode 9: Total Reward: 29.0\n",
      "Episode 10: Total Reward: 15.0\n"
     ]
    }
   ],
   "execution_count": 23
  },
  {
   "metadata": {
    "ExecuteTime": {
     "end_time": "2025-03-31T10:23:16.968535Z",
     "start_time": "2025-03-31T10:23:16.952629Z"
    }
   },
   "cell_type": "code",
   "source": [
    "# Given an environment, observation, and policy, sample from pi(a | obs). Returns the\n",
    "# selected action and the log probability of that action (needed for policy gradient).\n",
    "def select_action(env, obs, policy): # obs and policy are torch tensors\n",
    "    dist = Categorical(policy(obs)) # sample from the policy\n",
    "    action = dist.sample()\n",
    "    log_prob = dist.log_prob(action)\n",
    "    return (action.item(), log_prob.reshape(1)) # return the selected action and the log_prob of that action\n",
    "\n",
    "# Utility to compute the discounted total reward. Torch doesn't like flipped arrays, so we need to\n",
    "# .copy() the final numpy array. There's probably a better way to do this.\n",
    "def compute_returns(rewards, gamma):\n",
    "    return np.flip(np.cumsum([gamma**(i+1)*r for (i, r) in enumerate(rewards)][::-1]), 0).copy() # from an input list of rewards and a discount factor gamma, compute the discounted returns\n",
    "\n",
    "# Given an environment and a policy, run it up to the maximum number of steps.\n",
    "def run_episode(env, policy, maxlen=500): # maxlen is the maximum number of steps of the episode\n",
    "    # Collect just about everything.\n",
    "    observations = []\n",
    "    actions = []\n",
    "    log_probs = []\n",
    "    rewards = []\n",
    "\n",
    "    # Reset the environment and start the episode.\n",
    "    (obs, info) = env.reset()\n",
    "    for i in range(maxlen):\n",
    "        # Get the current observation, run the policy and select an action.\n",
    "        obs = torch.tensor(obs) # observe the environment and convert the observation to a tensor\n",
    "        (action, log_prob) = select_action(env, obs, policy) # select an action from the policy\n",
    "        observations.append(obs)\n",
    "        actions.append(action)\n",
    "        log_probs.append(log_prob)\n",
    "\n",
    "        # Advance the episode by executing the selected action.\n",
    "        (obs, reward, term, trunc, info) = env.step(action) # go to the next step in the environment, term is True if the episode is over, trunc is True if the episode was truncated\n",
    "        rewards.append(reward)\n",
    "        if term or trunc:\n",
    "            break\n",
    "    return (observations, actions, torch.cat(log_probs), rewards) # return the observations, actions, log_probs and rewards of the episode"
   ],
   "id": "487e8f1b263a437e",
   "outputs": [],
   "execution_count": 3
  },
  {
   "metadata": {
    "ExecuteTime": {
     "end_time": "2025-03-31T10:23:19.335411Z",
     "start_time": "2025-03-31T10:23:19.323369Z"
    }
   },
   "cell_type": "code",
   "source": [
    "# A simple, but generic, policy network with one hidden layer.\n",
    "class PolicyNet(nn.Module): # use a deep neural network to represent the policy\n",
    "    def __init__(self, env):\n",
    "        super().__init__()\n",
    "        self.fc1 = nn.Linear(env.observation_space.shape[0], 128)\n",
    "        self.fc2 = nn.Linear(128, env.action_space.n)\n",
    "\n",
    "    def forward(self, s):\n",
    "        s = F.relu(self.fc1(s))\n",
    "        s = F.softmax(self.fc2(s), dim=-1)\n",
    "        return s"
   ],
   "id": "a781dca7baa85f9b",
   "outputs": [],
   "execution_count": 4
  },
  {
   "metadata": {
    "ExecuteTime": {
     "end_time": "2025-03-31T10:23:29.101665Z",
     "start_time": "2025-03-31T10:23:29.092076Z"
    }
   },
   "cell_type": "code",
   "source": [
    "# A direct, inefficient, and probably buggy of the REINFORCE policy gradient algorithm.\n",
    "def reinforce(policy, env, env_render=None, gamma=0.99, num_episodes=10):\n",
    "    # The only non-vanilla part: we use Adam instead of SGD.\n",
    "    opt = torch.optim.Adam(policy.parameters(), lr=1e-2)\n",
    "\n",
    "    # Track episode rewards in a list.\n",
    "    running_rewards = [0.0] # collect the running rewards of the episodes\n",
    "\n",
    "    # The main training loop.\n",
    "    policy.train()\n",
    "    for episode in range(num_episodes):\n",
    "        # Run an episode of the environment, collect everything needed for policy update.\n",
    "        (observations, actions, log_probs, rewards) = run_episode(env, policy)\n",
    "\n",
    "        # Compute the discounted reward for every step of the episode.\n",
    "        returns = torch.tensor(compute_returns(rewards, gamma), dtype=torch.float32)\n",
    "\n",
    "        # Keep a running average of total discounted rewards for the whole episode.\n",
    "        running_rewards.append(0.05 * returns[0].item() + 0.95 * running_rewards[-1])\n",
    "\n",
    "        # Standardize returns.\n",
    "        returns = (returns - returns.mean()) / returns.std() # standardize the returns, stabilizing the training\n",
    "\n",
    "        # Make an optimization step\n",
    "        opt.zero_grad()\n",
    "        loss = (-log_probs * returns).mean() # mean instead of sum to make the learning rate independent of the number of steps in the episode\n",
    "        loss.backward()\n",
    "        opt.step()\n",
    "\n",
    "        # Render an episode after every 100 policy updates.\n",
    "        if not episode % 100:\n",
    "            if env_render:\n",
    "                policy.eval()\n",
    "                run_episode(env_render, policy)\n",
    "                policy.train()\n",
    "            print(f'Running reward: {running_rewards[-1]}')\n",
    "\n",
    "    # Return the running rewards.\n",
    "    policy.eval()\n",
    "    return running_rewards"
   ],
   "id": "8516cdc2502b7b1e",
   "outputs": [],
   "execution_count": 5
  },
  {
   "metadata": {
    "ExecuteTime": {
     "end_time": "2025-03-31T10:19:44.093732Z",
     "start_time": "2025-03-31T10:19:44.086552Z"
    }
   },
   "cell_type": "code",
   "source": [
    "# Reinforce with W&B\n",
    "def reinforce(policy, env, env_render=None, gamma=0.99, num_episodes=10):\n",
    "    opt = torch.optim.Adam(policy.parameters(), lr=1e-2)\n",
    "    running_rewards = [0.0]\n",
    "\n",
    "    policy.train()\n",
    "    for episode in range(num_episodes):\n",
    "        observations, actions, log_probs, rewards = run_episode(env, policy)\n",
    "        returns = torch.tensor(compute_returns(rewards, gamma), dtype=torch.float32)\n",
    "\n",
    "        running_rewards.append(0.05 * returns[0].item() + 0.95 * running_rewards[-1])\n",
    "\n",
    "        opt.zero_grad()\n",
    "        loss = (-log_probs * returns).mean()\n",
    "        loss.backward()\n",
    "        opt.step()\n",
    "\n",
    "        # Log su wandb\n",
    "        wandb.log({\n",
    "            \"episode\": episode,\n",
    "            \"loss\": loss.item(),\n",
    "            \"reward\": returns[0].item(),\n",
    "            \"running_reward\": running_rewards[-1]\n",
    "        })\n",
    "\n",
    "        if episode % 100 == 0:\n",
    "            if env_render:\n",
    "                policy.eval()\n",
    "                run_episode(env_render, policy)\n",
    "                policy.train()\n",
    "            print(f'Running reward: {running_rewards[-1]}')\n",
    "\n",
    "    policy.eval()\n",
    "    return running_rewards"
   ],
   "id": "2241a7bc0394a890",
   "outputs": [],
   "execution_count": 69
  },
  {
   "metadata": {
    "ExecuteTime": {
     "end_time": "2025-03-31T10:23:51.118819Z",
     "start_time": "2025-03-31T10:23:46.891981Z"
    }
   },
   "cell_type": "code",
   "source": [
    "# Instantiate a (rendering) CartPole environment.\n",
    "env_render = gym.make('CartPole-v1', render_mode='human')\n",
    "pygame.display.init()  # Might help PyGame not crash...\n",
    "\n",
    "# Make a policy network and run a few episodes to see how well random initialization works.\n",
    "policy = PolicyNet(env_render)\n",
    "for _ in range(10):\n",
    "    run_episode(env_render, policy)\n",
    "\n",
    "# If you don't close the environment, the PyGame window stays visible.\n",
    "env_render.close()\n",
    "\n",
    "# Again we pray PyGame doesn't crash...\n",
    "pygame.display.quit()"
   ],
   "id": "b5403a47484e6164",
   "outputs": [],
   "execution_count": 6
  },
  {
   "metadata": {
    "ExecuteTime": {
     "end_time": "2025-03-31T10:25:13.509894Z",
     "start_time": "2025-03-31T10:23:51.841016Z"
    }
   },
   "cell_type": "code",
   "source": [
    "# In the new version of Gymnasium you need different environments for rendering and no rendering.\n",
    "# Here we instantiate two versions of cartpole, one that animates the episodes (which slows everything\n",
    "# down), and another that does not animate.\n",
    "seed = 2112\n",
    "torch.manual_seed(seed)\n",
    "np.random.seed(seed)\n",
    "\n",
    "env = gym.make('CartPole-v1')\n",
    "env.reset(seed=seed)\n",
    "env_render = None # gymnasium.make('CartPole-v1', render_mode='human')\n",
    "\n",
    "# PyGame, please don't crash.\n",
    "pygame.display.init()\n",
    "\n",
    "# Make a policy network.\n",
    "policy = PolicyNet(env)\n",
    "\n",
    "# Train the agent.\n",
    "plt.plot(reinforce(policy, env, env_render, num_episodes=500))\n",
    "\n",
    "# Close up everything\n",
    "#env_render.close()\n",
    "env.close()\n",
    "pygame.display.quit()  # Fingers crossed..."
   ],
   "id": "3151ea7323d644f8",
   "outputs": [
    {
     "name": "stdout",
     "output_type": "stream",
     "text": [
      "Running reward: 0.7352840423583985\n",
      "Running reward: 49.96331935858296\n",
      "Running reward: 62.199887457454466\n",
      "Running reward: 83.76816105347082\n",
      "Running reward: 96.37891060354198\n"
     ]
    },
    {
     "data": {
      "text/plain": [
       "<Figure size 640x480 with 1 Axes>"
      ],
      "image/png": "[encoded data removed]"
     },
     "metadata": {},
     "output_type": "display_data"
    }
   ],
   "execution_count": 7
  },
  {
   "metadata": {},
   "cell_type": "code",
   "outputs": [],
   "execution_count": null,
   "source": [
    "# log of episode_return and episode_length (optional avg_val_length) to make weights and biases plots. episode_return is the total reward of the episode, episode_length is the number of steps in the episode, avg_val_length is the average length of the episodes. Also loss is logged, it's a good metric to see if the agent is learning or not.\n",
    "# at the beginning the loss is low because the agent is not learning, then it increases because the agent is learning. The loss is not a good metric to see if the agent is learning or not, but it's a good metric to see if the agent is overfitting or not. The loss should be low and stable, if it increases too much the agent is overfitting. If it decreases too much the agent is underfitting. The loss should be low and stable, if it increases too much the agent is overfitting. If it decreases too much the agent is underfitting.\n",
    "\n",
    "# vectorized environment is used to parallelize the training of the agent. It is not used in this implementation, but it is a good practice to use it when training agents in reinforcement learning.\n",
    "# No baseline Vs standardized baseline Vs value function baseline\n",
    "\n",
    "# I need a second network to estimate the value function with input = state s and output = v(s). 4 elements in the input vector, 1 element in the output vector. The second network has the same architecture of the policy network. (the last layer changes from 2 to 1)\n",
    "# The output of the second network is used as a baseline in the REINFORCE algorithm.\n",
    "# Gt is a sample of the return of the episode, the second network has to be trained to learn (V(s) - Gt)^alpha"
   ],
   "id": "b49d657fe87b3ad4"
  },
  {
   "cell_type": "code",
   "id": "cbd2dd9d-a60b-4892-878f-d83f64ac5f63",
   "metadata": {
    "tags": [],
    "ExecuteTime": {
     "end_time": "2025-03-31T09:27:09.943092Z",
     "start_time": "2025-03-31T09:27:09.937357Z"
    }
   },
   "source": [
    "# Your code here. Call .reset() on the environment and inspect the output. Also, check out the observation_space."
   ],
   "outputs": [],
   "execution_count": 9
  },
  {
   "cell_type": "markdown",
   "id": "0ae31dce-be71-4a86-95fd-1af902f026b8",
   "metadata": {},
   "source": [
    "**Next Things Next**: Now get your `REINFORCE` implementation working on the environment. You can import my (probably buggy and definitely inefficient) implementation here. Or even better, refactor an implementation into a separate package from which you can `import` the stuff you need here. "
   ]
  },
  {
   "cell_type": "code",
   "execution_count": 36,
   "id": "70490822-2859-4787-bf00-3084ad48252a",
   "metadata": {
    "jupyter": {
     "source_hidden": true
    }
   },
   "outputs": [],
   "source": [
    "# Your code here. You should be able to train an agent to solve Cartpole. This will be our starting point."
   ]
  },
  {
   "cell_type": "markdown",
   "id": "18b8a90f-78ed-4f43-9d66-aeba7c74fe2c",
   "metadata": {},
   "source": [
    "**Last Things Last**: My implementation does a **super crappy** job of evaluating the agent performance during training. The running average is not a very good metric. Modify my implementation so that every $N$ iterations (make $N$ an argument to the training function) the agent is run for $M$ episodes in the environment. Collect and return: (1) The average **total** reward received over the $M$ iterations; and (2) the average episode length. Analyze the performance of your agents with these new metrics."
   ]
  },
  {
   "cell_type": "code",
   "execution_count": null,
   "id": "3c722e50-f882-430f-903e-8a97d38bd0ec",
   "metadata": {},
   "outputs": [],
   "source": [
    "# Your code here."
   ]
  },
  {
   "cell_type": "markdown",
   "id": "2a5adad7-759b-4000-925b-701f41fe6e97",
   "metadata": {},
   "source": [
    "-----\n",
    "## Exercise 2: `REINFORCE` with a Value Baseline (warm up)\n",
    "\n",
    "In this exercise we will augment my implementation (or your own) of `REINFORCE` to subtract a baseline from the target in the update equation in order to stabilize (and hopefully speed-up) convergence. For now we will stick to the Cartpole environment.\n",
    "\n"
   ]
  },
  {
   "cell_type": "code",
   "execution_count": 33,
   "id": "d8b8cf76-5d39-45e9-8d7d-324125c04b4a",
   "metadata": {
    "tags": []
   },
   "outputs": [],
   "source": []
  },
  {
   "cell_type": "markdown",
   "id": "8cdd5bc3-a439-4d84-891b-f4a840331e07",
   "metadata": {},
   "source": [
    "**First Things First**: Recall from the slides on Deep Reinforcement Learning that we can **subtract** any function that doesn't depend on the current action from the q-value without changing the (maximum of our) objecttive function $J$:  \n",
    "\n",
    "$$ \\nabla J(\\boldsymbol{\\theta}) \\propto \\sum_{s} \\mu(s) \\sum_a \\left( q_{\\pi}(s, a) - b(s) \\right) \\nabla \\pi(a \\mid s, \\boldsymbol{\\theta}) $$\n",
    "\n",
    "In `REINFORCE` this means we can subtract from our target $G_t$:\n",
    "\n",
    "$$ \\boldsymbol{\\theta}_{t+1} \\triangleq \\boldsymbol{\\theta}_t + \\alpha (G_t - b(S_t)) \\frac{\\nabla \\pi(A_t \\mid s, \\boldsymbol{\\theta})}{\\pi(A_t \\mid s, \\boldsymbol{\\theta})} $$\n",
    "\n",
    "Since we are only interested in the **maximum** of our objective, we can also **rescale** our target by any function that also doesn't depend on the action. A **simple baseline** which is even independent of the state -- that is, it is **constant** for each episode -- is to just **standardize rewards within the episode**. So, we **subtract** the average return and **divide** by the variance of returns:\n",
    "\n",
    "$$ \\boldsymbol{\\theta}_{t+1} \\triangleq \\boldsymbol{\\theta}_t + \\alpha \\left(\\frac{G_t - \\bar{G}}{\\sigma_G}\\right) \\nabla  \\pi(A_t \\mid s, \\boldsymbol{\\theta}) $$\n",
    "\n",
    "This baseline is **already** implemented in my implementation of `REINFORCE`. Experiment with and without this standardization baseline and compare the performance. We are going to do something more interesting."
   ]
  },
  {
   "cell_type": "code",
   "execution_count": 1,
   "id": "faf5b245-9369-4ed9-b5f4-3a52bb975d3f",
   "metadata": {},
   "outputs": [],
   "source": [
    "# Your code here. Modify your implementation of `REINFORCE` to optionally use the standardize baseline."
   ]
  },
  {
   "cell_type": "markdown",
   "id": "46cfde8e-f1c7-4d96-85e0-268f687e09df",
   "metadata": {},
   "source": [
    "**The Real Exercise**: Standard practice is to use the state-value function $v(s)$ as a baseline. This is intuitively appealing -- we are more interested in updating out policy for returns that estimate the current **value** worse. Our new update becomes:\n",
    "\n",
    "$$ \\boldsymbol{\\theta}_{t+1} \\triangleq \\boldsymbol{\\theta}_t + \\alpha (G_t - \\tilde{v}(S_t \\mid \\mathbf{w})) \\frac{\\nabla \\pi(A_t \\mid s, \\boldsymbol{\\theta})}{\\pi(A_t \\mid s, \\boldsymbol{\\theta})} $$\n",
    "\n",
    "where $\\tilde{v}(s \\mid \\mathbf{w})$ is a **deep neural network** with parameters $w$ that estimates $v_\\pi(s)$. What neural network? Typically, we use the **same** network architecture as that of the Policy.\n",
    "\n",
    "**Your Task**: Modify your implementation to fit a second, baseline network to estimate the value function and use it as **baseline**. "
   ]
  },
  {
   "cell_type": "code",
   "execution_count": 2,
   "id": "4de3a2a8-05c3-44e2-9858-8cc8f431325f",
   "metadata": {},
   "outputs": [],
   "source": [
    "# Your code here."
   ]
  },
  {
   "cell_type": "markdown",
   "id": "64bf1447-d222-4b24-a357-5b7f9824390c",
   "metadata": {},
   "source": [
    "-----\n",
    "## Exercise 3: Going Deeper\n",
    "\n",
    "As usual, pick **AT LEAST ONE** of the following exercises to complete.\n",
    "\n",
    "### Exercise 3.1: Solving Lunar Lander with `REINFORCE` (easy)\n",
    "\n",
    "Use my (or even better, improve on my) implementation of `REINFORCE` to solve the [Lunar Lander Environment](https://gymnasium.farama.org/environments/box2d/lunar_lander/). This environment is a little bit harder than Cartpole, but not much. Make sure you perform the same types of analyses we did during the lab session to quantify and qualify the performance of your agents.\n",
    "\n",
    "### Exercise 3.2: Solving Cartpole and Lunar Lander with `Deep Q-Learning` (harder)\n",
    "\n",
    "On policy Deep Reinforcement Learning tends to be **very unstable**. Write an implementation (or adapt an existing one) of `Deep Q-Learning` to solve our two environments (Cartpole and Lunar Lander). To do this you will need to implement a **Replay Buffer** and use a second, slow-moving **target Q-Network** to stabilize learning.\n",
    "\n",
    "### Exercise 3.3: Solving the OpenAI CarRacing environment (hardest) \n",
    "\n",
    "Use `Deep Q-Learning` -- or even better, an off-the-shelf implementation of **Proximal Policy Optimization (PPO)** -- to train an agent to solve the [OpenAI CarRacing](https://github.com/andywu0913/OpenAI-GYM-CarRacing-DQN) environment. This will be the most *fun*, but also the most *difficult*. Some tips:\n",
    "\n",
    "1. Make sure you use the `continuous=False` argument to the environment constructor. This ensures that the action space is **discrete** (we haven't seen how to work with continuous action spaces).\n",
    "2. Your Q-Network will need to be a CNN. A simple one should do, with two convolutional + maxpool layers, folowed by a two dense layers. You will **definitely** want to use a GPU to train your agents.\n",
    "3. The observation space of the environment is a single **color image** (a single frame of the game). Most implementations stack multiple frames (e.g. 3) after converting them to grayscale images as an observation.\n",
    "\n",
    " "
   ]
  }
 ],
 "metadata": {
  "kernelspec": {
   "display_name": "Python 3 (ipykernel)",
   "language": "python",
   "name": "python3"
  },
  "language_info": {
   "codemirror_mode": {
    "name": "ipython",
    "version": 3
   },
   "file_extension": ".py",
   "mimetype": "text/x-python",
   "name": "python",
   "nbconvert_exporter": "python",
   "pygments_lexer": "ipython3",
   "version": "3.12.3"
  }
 },
 "nbformat": 4,
 "nbformat_minor": 5
}
