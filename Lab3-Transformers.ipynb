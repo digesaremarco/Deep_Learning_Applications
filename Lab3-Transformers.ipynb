{
 "cells": [
  {
   "cell_type": "markdown",
   "id": "08e91cdb-4693-4632-b7aa-f37eec027131",
   "metadata": {
    "id": "08e91cdb-4693-4632-b7aa-f37eec027131"
   },
   "source": [
    "## Working with Transformers in the HuggingFace Ecosystem\n",
    "\n",
    "In this laboratory exercise we will learn how to work with the HuggingFace ecosystem to adapt models to new tasks. As you will see, much of what is required is *investigation* into the inner-workings of the HuggingFace abstractions. With a little work, a little trial-and-error, it is fairly easy to get a working adaptation pipeline up and running."
   ]
  },
  {
   "cell_type": "markdown",
   "id": "7e556105-269f-43e3-8933-227269afb9ea",
   "metadata": {
    "id": "7e556105-269f-43e3-8933-227269afb9ea"
   },
   "source": [
    "### Exercise 1: Sentiment Analysis (warm up)\n",
    "\n",
    "In this first exercise we will start from a pre-trained BERT transformer and build up a model able to perform text sentiment analysis. Transformers are complex beasts, so we will build up our pipeline in several explorative and incremental steps.\n",
    "\n",
    "#### Exercise 1.1: Dataset Splits and Pre-trained model\n",
    "There are a many sentiment analysis datasets, but we will use one of the smallest ones available: the [Cornell Rotten Tomatoes movie review dataset](cornell-movie-review-data/rotten_tomatoes), which consists of 5,331 positive and 5,331 negative processed sentences from the Rotten Tomatoes movie reviews.\n",
    "\n",
    "**Your first task**: Load the dataset and figure out what splits are available and how to get them. Spend some time exploring the dataset to see how it is organized. Note that we will be using the [HuggingFace Datasets](https://huggingface.co/docs/datasets/en/index) library for downloading, accessing, splitting, and batching data for training and evaluation."
   ]
  },
  {
   "cell_type": "code",
   "execution_count": 1,
   "id": "15819af4-e850-412b-ab67-61b9b98e3a90",
   "metadata": {
    "ExecuteTime": {
     "end_time": "2025-05-21T10:28:16.819817Z",
     "start_time": "2025-05-21T10:27:59.121537Z"
    },
    "colab": {
     "base_uri": "https://localhost:8080/",
     "height": 365,
     "referenced_widgets": [
      "d75f24d5fa1e431da59d44722009ab66",
      "a2ba2199ad314ade8212af1d742b2f1c",
      "c7b8bebf44a74a09b6244adf66029f00",
      "8fe85eb175864d1f9d00ad6ffa93fd72",
      "41af38548a5c4c489bdab6af3e73a929",
      "68040320b7734916ac669f09b13635ab",
      "1b7d302fb5714cbf8af42408a6b14069",
      "52ad888e8dfd4d33a3758f0ed3fa5166",
      "927224b391ad48a4ba125ac1221c7278",
      "5386f9f144714319a83fe35250879f0b",
      "13733357bf9f446b882a5af1f0416e4c",
      "0325d884bbcb402598fc8d83ecb2da34",
      "5852abab8a5f4e4dbf2b33871727bead",
      "ad2571e0185d4e9da1551259f4d96e77",
      "8ae3ccb9f2af44cf97b9cafcd4fb5b8d",
      "8dae1391bff141b588b3061a86afb822",
      "432c2261a81142cd8d8adbd6a9e18ed3",
      "0e0b7e89b4e04748906a99d07c4cc721",
      "d36944b0cd0a453f863de9b0270d36ca",
      "9f56d8e9b9524356aabdb225c7732645",
      "19e43809aeed493a9e930d676ea4f0e2",
      "9ea3c5c4f81644acae575814688dcfe9",
      "88f7e34bab274b0c99a98d280ceaa04b",
      "3162f617b86043d3943cfe3810443ab5",
      "a3c634b4838a4604949526b1d4fb47f5",
      "16d4622e390e4855b112626f1b461b73",
      "ff05968a1b2e4e18a9f12a952b2643ef",
      "197db627e9e74e99b0ad90238e67fa3b",
      "ad5bb15b155f4376807493f9f837ad8e",
      "842b4f5f2e614fdab6c5af7cc672c463",
      "5837c3374be741c4aba1419b5a3c82fd",
      "b9f01e6c91124a89853895184c005e8a",
      "f7fe03e614cc4369ae3ea294476ab15e",
      "fac3a5fdb0a64cc7946425fa4ef834e0",
      "df3bce9a4687437ebdfdeb53345c5f7f",
      "dcf839fd7a924c56950f45e571404bf5",
      "99804d2ac258460192d55b86ec9d03ff",
      "3902e3263c9f488bbbf3b5d2aeb6dae9",
      "edcfb34175c14f23956023296880f230",
      "eb0fd0e7ba4c4c949b3871e4e73028ca",
      "3a5c124c2ee94a5d84b465d458003dcf",
      "6a817825d0aa40c0ac785d4155864df6",
      "e5e6b643ecd2492a8227a30903f00aab",
      "76c1decce2194a6bb17afe203a7eddf3",
      "44f42b3735fe44bf96217fed708ae8e2",
      "585d1996c3c748e2af04d8ffb602f9ca",
      "49bbbaa0c0394e6c94bc22a124bbc341",
      "14b2b8e641b044319906e6108bdc0c27",
      "7b28c0e740bb4f0ca9e600f772b365d8",
      "89630fcc47de41e2a2b99c7185f99dfd",
      "bf18240b2af04f29b16e3120038f8d91",
      "04bfda27216e4a23aa4926076d53d523",
      "4a992dffc1404661913998176a5d317c",
      "2ca50adf086740248c181ebc1b15993d",
      "63dea5d84cc64b2582f16e1982c2ca6f",
      "b097510c348643598e4bcdd0e3c67210",
      "e7df6d2ad5f44691bc18d50d3c83cebb",
      "018257e8b0dc4edda8fd08ff743a9ee2",
      "f958b0f25b404d91a49ee9d3dab98d50",
      "dbe29bcf7f1347e2b7b00f6f77f6619d",
      "32d6d3b731b842bb8b935a95a03566b1",
      "3ea239f87c1f4a14b95c24c1ed2c316b",
      "32852ea3538b46788b34a89b73816157",
      "908c8794ede14958b3bce03fbb48388b",
      "629d87dd3c3a4ee59cb41ddb71dbd322",
      "e2b5f08572844b11b8a177136c9c17e9",
      "8d254dd1ef294d10b80efc227590d8eb",
      "329516f8eaaf4b04a881060ed7cc88e2",
      "69337a5f9fa64f1c8c50e6e97389cafd",
      "eb95c1e8d6a24cfe9246e1ec3a21a738",
      "4768180f74ac473985b91ea1b5975d01",
      "129bc20c74f34ff587324a4d3cd9b5cf",
      "829e775a48a94f559537708df7af5758",
      "7afc48581fa344699c9738ca999ec640",
      "4b2914e4d0fb41da9c781b29ff01db18",
      "c8a7c52de400444694750dc2c4bad25e",
      "87390b77af204ad19d9498b59b4c6a6c"
     ]
    },
    "executionInfo": {
     "elapsed": 7737,
     "status": "ok",
     "timestamp": 1747821802279,
     "user": {
      "displayName": "marco di gesare",
      "userId": "15374948535353059038"
     },
     "user_tz": -120
    },
    "id": "15819af4-e850-412b-ab67-61b9b98e3a90",
    "outputId": "ecc59620-af19-410d-bb55-8b24a584ae31"
   },
   "outputs": [
    {
     "name": "stderr",
     "output_type": "stream",
     "text": [
      "C:\\Università\\DeepLearning\\HAN_project\\.venv\\Lib\\site-packages\\tqdm\\auto.py:21: TqdmWarning: IProgress not found. Please update jupyter and ipywidgets. See https://ipywidgets.readthedocs.io/en/stable/user_install.html\n",
      "  from .autonotebook import tqdm as notebook_tqdm\n"
     ]
    }
   ],
   "source": [
    "#!pip install -U datasets # to work with colab\n",
    "from datasets import load_dataset, get_dataset_split_names\n",
    "# Your code here.\n",
    "ds_id = 'cornell-movie-review-data/rotten_tomatoes'\n",
    "get_dataset_split_names(ds_id) # get the available splits\n",
    "\n",
    "ds_train = load_dataset(ds_id, split='train') # load the training split\n",
    "ds_val = load_dataset(ds_id, split='validation') # load the validation split\n",
    "ds_test = load_dataset(ds_id, split='test') # load the test split"
   ]
  },
  {
   "cell_type": "code",
   "execution_count": 2,
   "id": "e66a6b769412716",
   "metadata": {
    "ExecuteTime": {
     "end_time": "2025-05-21T09:20:40.816998Z",
     "start_time": "2025-05-21T09:20:40.801702Z"
    },
    "colab": {
     "base_uri": "https://localhost:8080/"
    },
    "executionInfo": {
     "elapsed": 26,
     "status": "ok",
     "timestamp": 1747821805454,
     "user": {
      "displayName": "marco di gesare",
      "userId": "15374948535353059038"
     },
     "user_tz": -120
    },
    "id": "e66a6b769412716",
    "outputId": "b1216bbe-cb60-4d24-c773-17ef087fb235"
   },
   "outputs": [
    {
     "data": {
      "text/plain": [
       "(Dataset({\n",
       "     features: ['text', 'label'],\n",
       "     num_rows: 8530\n",
       " }),\n",
       " Dataset({\n",
       "     features: ['text', 'label'],\n",
       "     num_rows: 1066\n",
       " }),\n",
       " Dataset({\n",
       "     features: ['text', 'label'],\n",
       "     num_rows: 1066\n",
       " }))"
      ]
     },
     "execution_count": 2,
     "metadata": {},
     "output_type": "execute_result"
    }
   ],
   "source": [
    "ds_train, ds_val, ds_test"
   ]
  },
  {
   "cell_type": "markdown",
   "id": "a27f50a0-0af4-4bdd-9a60-bab26f126c14",
   "metadata": {
    "id": "a27f50a0-0af4-4bdd-9a60-bab26f126c14"
   },
   "source": [
    "#### Exercise 1.2: A Pre-trained BERT and Tokenizer\n",
    "\n",
    "The model we will use is a *very* small BERT transformer called [Distilbert](https://huggingface.co/distilbert/distilbert-base-uncased) this model was trained (using self-supervised learning) on the same corpus as BERT but using the full BERT base model as a *teacher*.\n",
    "\n",
    "**Your next task**: Load the Distilbert model and corresponding tokenizer. Use the tokenizer on a few samples from the dataset and pass the tokens through the model to see what outputs are provided. I suggest you use the [`AutoModel`](https://huggingface.co/transformers/v3.0.2/model_doc/auto.html) class (and the `from_pretrained()` method) to load the model and `AutoTokenizer` to load the tokenizer)."
   ]
  },
  {
   "cell_type": "code",
   "execution_count": 3,
   "id": "3eefc651-8551-44c2-8340-37d64660fc58",
   "metadata": {
    "ExecuteTime": {
     "end_time": "2025-05-21T09:21:06.405626Z",
     "start_time": "2025-05-21T09:20:57.608523Z"
    },
    "colab": {
     "base_uri": "https://localhost:8080/",
     "height": 232,
     "referenced_widgets": [
      "ceb3fdc1653645f78908701906463b60",
      "f353646a895e4349acf6a11b786c3288",
      "ffb89b2b5bbb4b219bd2a2bdd83928fc",
      "273e7a5091b04e6f846868cd96f273d7",
      "bf4f744edc0b4db4a88812bb2391cd78",
      "d33c5c9b8c93428d93fb1b9b3dc7dbf2",
      "632e68e6f7f6456e9ce085c82a20ce03",
      "5884e6c4c5704e2fa7be56541ac5438a",
      "d17713caea90478880f6e1b82b905510",
      "86629738df854724bf8bd9055dd98490",
      "ba96e742533b4944a327cb8268446567",
      "f4285f66c6ec4459a7be256d03847b27",
      "80f9a4fbe32147f4bd74db6e959bc630",
      "1bd7a84b3fcf4c1cb77ffd319d8b5862",
      "3d3a26f8646f403e8b7023e6acf73d20",
      "26eb891d9857472ab8785da0d9d6a93b",
      "0fc76ee25ccf40bca10e9b8e824369a1",
      "7b61ec38084140cea96f4caaf06f10f5",
      "cfcc041bf5214588890dc274c37a1484",
      "0b1004ef13a84b4f9599474550424e1a",
      "f6677f9b55a645a9a966ca1357ab9c1c",
      "152776535b414c8b8dd337551921047e",
      "4df5de46a82d4b15b3168cb2929f3da7",
      "2f269fa62a4947b5b001fb6beb1b6b11",
      "179de0fb0a384e5899b958f03b4015e3",
      "31d99d85c22946168a2b36bbee23c0e8",
      "94309a37ba9a4b5a9e20c1ff6eac739a",
      "65bfc56b86444b23ac7e118e110709d4",
      "da6af426b65f414590a86ad783b1dc82",
      "d412fc3b2ec74818aea81f19a45486b5",
      "45df85ffe6d84ce18b0578d0b586861a",
      "d4d389aeb6e942fcbc7a7a379dbfcbcd",
      "825d7aaeb6b24e56a3750abaceb7db0a",
      "834695887aaf4b1ca8f240e85b98dc79",
      "0b1650c34a8a41a3af21b4091d2b84af",
      "9950b1591cc447cd8f97b60622449990",
      "7eec0bf6b55c4542a48607867c58de23",
      "1625046c621a4c18a1d0ab4bc887aefa",
      "f99fdae916264737be831afd59be2bc4",
      "62f43780ee444528b7036938a8d878da",
      "84fe9293784a4ce6b170eb32959d19b8",
      "ec232f66cbdd40b5aaf7850cbc6c64ef",
      "3cd6fa4658124ebb93b6fc441bc251fc",
      "38c0c190b92e4a4ba0e28e952ea7ccc3",
      "b5903c9f2b784b97a6d459689c91d710",
      "4a831cb4639945b38cc794ad2365207b",
      "2a863273b8bc4b6c928c10f648ee3fb3",
      "b07203c99d36404880b1595a24bcc2af",
      "4c970d90b1494b2cbf233a7c45de2dea",
      "1f198d062e2448e29f3e2a5b825e342b",
      "bf3f2be81577485c95e338523ca4a96d",
      "c354547ef25449a48a07be74bed47006",
      "8af6814850514802af1d3f2cf2b9fefd",
      "8a2006e29b2449759c6ec361ab9feb59",
      "8cf7a53548c74b06b69dbcdff4f5eac0"
     ]
    },
    "executionInfo": {
     "elapsed": 26958,
     "status": "ok",
     "timestamp": 1747821834312,
     "user": {
      "displayName": "marco di gesare",
      "userId": "15374948535353059038"
     },
     "user_tz": -120
    },
    "id": "3eefc651-8551-44c2-8340-37d64660fc58",
    "outputId": "28e4c590-6edf-4f3d-a778-45b771083ef9"
   },
   "outputs": [
    {
     "data": {
      "application/vnd.jupyter.widget-view+json": {
       "model_id": "ceb3fdc1653645f78908701906463b60",
       "version_major": 2,
       "version_minor": 0
      },
      "text/plain": [
       "config.json:   0%|          | 0.00/483 [00:00<?, ?B/s]"
      ]
     },
     "metadata": {},
     "output_type": "display_data"
    },
    {
     "name": "stderr",
     "output_type": "stream",
     "text": [
      "Xet Storage is enabled for this repo, but the 'hf_xet' package is not installed. Falling back to regular HTTP download. For better performance, install the package with: `pip install huggingface_hub[hf_xet]` or `pip install hf_xet`\n",
      "WARNING:huggingface_hub.file_download:Xet Storage is enabled for this repo, but the 'hf_xet' package is not installed. Falling back to regular HTTP download. For better performance, install the package with: `pip install huggingface_hub[hf_xet]` or `pip install hf_xet`\n"
     ]
    },
    {
     "data": {
      "application/vnd.jupyter.widget-view+json": {
       "model_id": "f4285f66c6ec4459a7be256d03847b27",
       "version_major": 2,
       "version_minor": 0
      },
      "text/plain": [
       "model.safetensors:   0%|          | 0.00/268M [00:00<?, ?B/s]"
      ]
     },
     "metadata": {},
     "output_type": "display_data"
    },
    {
     "data": {
      "application/vnd.jupyter.widget-view+json": {
       "model_id": "4df5de46a82d4b15b3168cb2929f3da7",
       "version_major": 2,
       "version_minor": 0
      },
      "text/plain": [
       "tokenizer_config.json:   0%|          | 0.00/48.0 [00:00<?, ?B/s]"
      ]
     },
     "metadata": {},
     "output_type": "display_data"
    },
    {
     "data": {
      "application/vnd.jupyter.widget-view+json": {
       "model_id": "834695887aaf4b1ca8f240e85b98dc79",
       "version_major": 2,
       "version_minor": 0
      },
      "text/plain": [
       "vocab.txt:   0%|          | 0.00/232k [00:00<?, ?B/s]"
      ]
     },
     "metadata": {},
     "output_type": "display_data"
    },
    {
     "data": {
      "application/vnd.jupyter.widget-view+json": {
       "model_id": "b5903c9f2b784b97a6d459689c91d710",
       "version_major": 2,
       "version_minor": 0
      },
      "text/plain": [
       "tokenizer.json:   0%|          | 0.00/466k [00:00<?, ?B/s]"
      ]
     },
     "metadata": {},
     "output_type": "display_data"
    }
   ],
   "source": [
    "from transformers import AutoTokenizer, AutoModel\n",
    "\n",
    "# Your code here.\n",
    "model_id = 'distilbert-base-uncased' # it's smaller than bert-base-uncased\n",
    "model = AutoModel.from_pretrained(model_id) # load the model\n",
    "tokenizer = AutoTokenizer.from_pretrained(model_id) # load the tokenizer"
   ]
  },
  {
   "cell_type": "code",
   "execution_count": 4,
   "id": "c31a9269f967922c",
   "metadata": {
    "ExecuteTime": {
     "end_time": "2025-05-21T09:21:29.468370Z",
     "start_time": "2025-05-21T09:21:29.456614Z"
    },
    "colab": {
     "base_uri": "https://localhost:8080/"
    },
    "executionInfo": {
     "elapsed": 55,
     "status": "ok",
     "timestamp": 1747821852130,
     "user": {
      "displayName": "marco di gesare",
      "userId": "15374948535353059038"
     },
     "user_tz": -120
    },
    "id": "c31a9269f967922c",
    "outputId": "dee729e7-f66d-4cc2-a168-875023f0ea28"
   },
   "outputs": [
    {
     "data": {
      "text/plain": [
       "DistilBertModel(\n",
       "  (embeddings): Embeddings(\n",
       "    (word_embeddings): Embedding(30522, 768, padding_idx=0)\n",
       "    (position_embeddings): Embedding(512, 768)\n",
       "    (LayerNorm): LayerNorm((768,), eps=1e-12, elementwise_affine=True)\n",
       "    (dropout): Dropout(p=0.1, inplace=False)\n",
       "  )\n",
       "  (transformer): Transformer(\n",
       "    (layer): ModuleList(\n",
       "      (0-5): 6 x TransformerBlock(\n",
       "        (attention): DistilBertSdpaAttention(\n",
       "          (dropout): Dropout(p=0.1, inplace=False)\n",
       "          (q_lin): Linear(in_features=768, out_features=768, bias=True)\n",
       "          (k_lin): Linear(in_features=768, out_features=768, bias=True)\n",
       "          (v_lin): Linear(in_features=768, out_features=768, bias=True)\n",
       "          (out_lin): Linear(in_features=768, out_features=768, bias=True)\n",
       "        )\n",
       "        (sa_layer_norm): LayerNorm((768,), eps=1e-12, elementwise_affine=True)\n",
       "        (ffn): FFN(\n",
       "          (dropout): Dropout(p=0.1, inplace=False)\n",
       "          (lin1): Linear(in_features=768, out_features=3072, bias=True)\n",
       "          (lin2): Linear(in_features=3072, out_features=768, bias=True)\n",
       "          (activation): GELUActivation()\n",
       "        )\n",
       "        (output_layer_norm): LayerNorm((768,), eps=1e-12, elementwise_affine=True)\n",
       "      )\n",
       "    )\n",
       "  )\n",
       ")"
      ]
     },
     "execution_count": 4,
     "metadata": {},
     "output_type": "execute_result"
    }
   ],
   "source": [
    "model"
   ]
  },
  {
   "cell_type": "code",
   "execution_count": 5,
   "id": "5d83159c24ee9329",
   "metadata": {
    "ExecuteTime": {
     "end_time": "2025-05-21T09:21:43.991664Z",
     "start_time": "2025-05-21T09:21:43.982009Z"
    },
    "colab": {
     "base_uri": "https://localhost:8080/"
    },
    "executionInfo": {
     "elapsed": 16,
     "status": "ok",
     "timestamp": 1747821853429,
     "user": {
      "displayName": "marco di gesare",
      "userId": "15374948535353059038"
     },
     "user_tz": -120
    },
    "id": "5d83159c24ee9329",
    "outputId": "3b51d2bc-7b07-4d01-f09e-d258d2f2d729"
   },
   "outputs": [
    {
     "data": {
      "text/plain": [
       "DistilBertTokenizerFast(name_or_path='distilbert-base-uncased', vocab_size=30522, model_max_length=512, is_fast=True, padding_side='right', truncation_side='right', special_tokens={'unk_token': '[UNK]', 'sep_token': '[SEP]', 'pad_token': '[PAD]', 'cls_token': '[CLS]', 'mask_token': '[MASK]'}, clean_up_tokenization_spaces=False, added_tokens_decoder={\n",
       "\t0: AddedToken(\"[PAD]\", rstrip=False, lstrip=False, single_word=False, normalized=False, special=True),\n",
       "\t100: AddedToken(\"[UNK]\", rstrip=False, lstrip=False, single_word=False, normalized=False, special=True),\n",
       "\t101: AddedToken(\"[CLS]\", rstrip=False, lstrip=False, single_word=False, normalized=False, special=True),\n",
       "\t102: AddedToken(\"[SEP]\", rstrip=False, lstrip=False, single_word=False, normalized=False, special=True),\n",
       "\t103: AddedToken(\"[MASK]\", rstrip=False, lstrip=False, single_word=False, normalized=False, special=True),\n",
       "}\n",
       ")"
      ]
     },
     "execution_count": 5,
     "metadata": {},
     "output_type": "execute_result"
    }
   ],
   "source": [
    "tokenizer"
   ]
  },
  {
   "cell_type": "code",
   "execution_count": 6,
   "id": "1e79b158ac7eaa0c",
   "metadata": {
    "ExecuteTime": {
     "end_time": "2025-05-21T09:21:58.574806Z",
     "start_time": "2025-05-21T09:21:58.559156Z"
    },
    "colab": {
     "base_uri": "https://localhost:8080/"
    },
    "executionInfo": {
     "elapsed": 29,
     "status": "ok",
     "timestamp": 1747821854437,
     "user": {
      "displayName": "marco di gesare",
      "userId": "15374948535353059038"
     },
     "user_tz": -120
    },
    "id": "1e79b158ac7eaa0c",
    "outputId": "e26995f8-5ea7-4be0-fd1d-f28b5977133d"
   },
   "outputs": [
    {
     "data": {
      "text/plain": [
       "{'input_ids': [[101, 1996, 2600, 2003, 16036, 2000, 2022, 1996, 7398, 2301, 1005, 1055, 2047, 1000, 16608, 1000, 1998, 2008, 2002, 1005, 1055, 2183, 2000, 2191, 1037, 17624, 2130, 3618, 2084, 7779, 29058, 8625, 13327, 1010, 3744, 1011, 18856, 19513, 3158, 5477, 4168, 2030, 7112, 16562, 2140, 1012, 102, 0, 0, 0, 0, 0], [101, 1996, 9882, 2135, 9603, 13633, 1997, 1000, 1996, 2935, 1997, 1996, 7635, 1000, 11544, 2003, 2061, 4121, 2008, 1037, 5930, 1997, 2616, 3685, 23613, 6235, 2522, 1011, 3213, 1013, 2472, 2848, 4027, 1005, 1055, 4423, 4432, 1997, 1046, 1012, 1054, 1012, 1054, 1012, 23602, 1005, 1055, 2690, 1011, 3011, 1012, 102]], 'attention_mask': [[1, 1, 1, 1, 1, 1, 1, 1, 1, 1, 1, 1, 1, 1, 1, 1, 1, 1, 1, 1, 1, 1, 1, 1, 1, 1, 1, 1, 1, 1, 1, 1, 1, 1, 1, 1, 1, 1, 1, 1, 1, 1, 1, 1, 1, 1, 1, 0, 0, 0, 0, 0], [1, 1, 1, 1, 1, 1, 1, 1, 1, 1, 1, 1, 1, 1, 1, 1, 1, 1, 1, 1, 1, 1, 1, 1, 1, 1, 1, 1, 1, 1, 1, 1, 1, 1, 1, 1, 1, 1, 1, 1, 1, 1, 1, 1, 1, 1, 1, 1, 1, 1, 1, 1]]}"
      ]
     },
     "execution_count": 6,
     "metadata": {},
     "output_type": "execute_result"
    }
   ],
   "source": [
    "tokenizer(ds_train[:2]['text'], padding = True) # tokenize a sample, padding to max length to better see the attention mask (put 0 for padding and 1 for real tokens)"
   ]
  },
  {
   "cell_type": "code",
   "execution_count": 7,
   "id": "ecf76ae87f17da94",
   "metadata": {
    "ExecuteTime": {
     "end_time": "2025-05-21T09:22:12.541778Z",
     "start_time": "2025-05-21T09:22:12.525291Z"
    },
    "colab": {
     "base_uri": "https://localhost:8080/"
    },
    "executionInfo": {
     "elapsed": 20,
     "status": "ok",
     "timestamp": 1747821855414,
     "user": {
      "displayName": "marco di gesare",
      "userId": "15374948535353059038"
     },
     "user_tz": -120
    },
    "id": "ecf76ae87f17da94",
    "outputId": "9895afab-035c-4736-acf6-21cc32824a64"
   },
   "outputs": [
    {
     "data": {
      "text/plain": [
       "{'input_ids': tensor([[  101,  1996,  2600,  2003, 16036,  2000,  2022,  1996,  7398,  2301,\n",
       "          1005,  1055,  2047,  1000, 16608,  1000,  1998,  2008,  2002,  1005,\n",
       "          1055,  2183,  2000,  2191,  1037, 17624,  2130,  3618,  2084,  7779,\n",
       "         29058,  8625, 13327,  1010,  3744,  1011, 18856, 19513,  3158,  5477,\n",
       "          4168,  2030,  7112, 16562,  2140,  1012,   102,     0,     0,     0,\n",
       "             0,     0],\n",
       "        [  101,  1996,  9882,  2135,  9603, 13633,  1997,  1000,  1996,  2935,\n",
       "          1997,  1996,  7635,  1000, 11544,  2003,  2061,  4121,  2008,  1037,\n",
       "          5930,  1997,  2616,  3685, 23613,  6235,  2522,  1011,  3213,  1013,\n",
       "          2472,  2848,  4027,  1005,  1055,  4423,  4432,  1997,  1046,  1012,\n",
       "          1054,  1012,  1054,  1012, 23602,  1005,  1055,  2690,  1011,  3011,\n",
       "          1012,   102]]), 'attention_mask': tensor([[1, 1, 1, 1, 1, 1, 1, 1, 1, 1, 1, 1, 1, 1, 1, 1, 1, 1, 1, 1, 1, 1, 1, 1,\n",
       "         1, 1, 1, 1, 1, 1, 1, 1, 1, 1, 1, 1, 1, 1, 1, 1, 1, 1, 1, 1, 1, 1, 1, 0,\n",
       "         0, 0, 0, 0],\n",
       "        [1, 1, 1, 1, 1, 1, 1, 1, 1, 1, 1, 1, 1, 1, 1, 1, 1, 1, 1, 1, 1, 1, 1, 1,\n",
       "         1, 1, 1, 1, 1, 1, 1, 1, 1, 1, 1, 1, 1, 1, 1, 1, 1, 1, 1, 1, 1, 1, 1, 1,\n",
       "         1, 1, 1, 1]])}"
      ]
     },
     "execution_count": 7,
     "metadata": {},
     "output_type": "execute_result"
    }
   ],
   "source": [
    "tokenizer(ds_train[:2]['text'], padding = True, return_tensors ='pt') # convert to tensors"
   ]
  },
  {
   "cell_type": "code",
   "execution_count": 8,
   "id": "1d3d88546769ea2d",
   "metadata": {
    "ExecuteTime": {
     "end_time": "2025-05-21T09:22:34.906057Z",
     "start_time": "2025-05-21T09:22:34.853465Z"
    },
    "executionInfo": {
     "elapsed": 303,
     "status": "ok",
     "timestamp": 1747821856724,
     "user": {
      "displayName": "marco di gesare",
      "userId": "15374948535353059038"
     },
     "user_tz": -120
    },
    "id": "1d3d88546769ea2d"
   },
   "outputs": [],
   "source": [
    "inputs = tokenizer(ds_train[:2]['text'], padding = True, return_tensors ='pt') # convert to tensors\n",
    "outputs = model(**inputs) # pass through the model. model(input_ids = inputs['input_ids'], attention_mask = inputs['attention_mask']) is equivalent"
   ]
  },
  {
   "cell_type": "code",
   "execution_count": 9,
   "id": "1cbfae22fa00af48",
   "metadata": {
    "ExecuteTime": {
     "end_time": "2025-05-21T09:22:49.468758Z",
     "start_time": "2025-05-21T09:22:49.462695Z"
    },
    "executionInfo": {
     "elapsed": 3,
     "status": "ok",
     "timestamp": 1747821857631,
     "user": {
      "displayName": "marco di gesare",
      "userId": "15374948535353059038"
     },
     "user_tz": -120
    },
    "id": "1cbfae22fa00af48"
   },
   "outputs": [],
   "source": [
    "hidden_states = outputs['last_hidden_state'] # last hidden states"
   ]
  },
  {
   "cell_type": "code",
   "execution_count": 10,
   "id": "4d925d43926a337d",
   "metadata": {
    "ExecuteTime": {
     "end_time": "2025-05-21T09:23:24.467205Z",
     "start_time": "2025-05-21T09:23:24.458651Z"
    },
    "colab": {
     "base_uri": "https://localhost:8080/"
    },
    "executionInfo": {
     "elapsed": 17,
     "status": "ok",
     "timestamp": 1747821858564,
     "user": {
      "displayName": "marco di gesare",
      "userId": "15374948535353059038"
     },
     "user_tz": -120
    },
    "id": "4d925d43926a337d",
    "outputId": "4847b101-ce5b-4061-d901-efaac8931d65"
   },
   "outputs": [
    {
     "data": {
      "text/plain": [
       "torch.Size([2, 52, 768])"
      ]
     },
     "execution_count": 10,
     "metadata": {},
     "output_type": "execute_result"
    }
   ],
   "source": [
    "hidden_states.shape"
   ]
  },
  {
   "cell_type": "code",
   "execution_count": 11,
   "id": "f0e858e95b7462ff",
   "metadata": {
    "ExecuteTime": {
     "end_time": "2025-05-20T10:25:48.697552Z",
     "start_time": "2025-05-20T10:25:48.688177Z"
    },
    "colab": {
     "base_uri": "https://localhost:8080/"
    },
    "executionInfo": {
     "elapsed": 8,
     "status": "ok",
     "timestamp": 1747821859694,
     "user": {
      "displayName": "marco di gesare",
      "userId": "15374948535353059038"
     },
     "user_tz": -120
    },
    "id": "f0e858e95b7462ff",
    "outputId": "49e2abb1-e57a-451a-c377-7b0f94d6ed80"
   },
   "outputs": [
    {
     "data": {
      "text/plain": [
       "torch.Size([2, 52, 768])"
      ]
     },
     "execution_count": 11,
     "metadata": {},
     "output_type": "execute_result"
    }
   ],
   "source": [
    "import torch\n",
    "torch.Size([2, 52, 768]) # 2 samples, 52 tokens, 768 hidden units"
   ]
  },
  {
   "cell_type": "code",
   "execution_count": 12,
   "id": "921ce540c5a7f91d",
   "metadata": {
    "ExecuteTime": {
     "end_time": "2025-05-21T09:23:55.486886Z",
     "start_time": "2025-05-21T09:23:55.477160Z"
    },
    "colab": {
     "base_uri": "https://localhost:8080/",
     "height": 70
    },
    "executionInfo": {
     "elapsed": 27,
     "status": "ok",
     "timestamp": 1747821860654,
     "user": {
      "displayName": "marco di gesare",
      "userId": "15374948535353059038"
     },
     "user_tz": -120
    },
    "id": "921ce540c5a7f91d",
    "outputId": "49032e43-b862-4ce0-b56f-92951e9f6bbf"
   },
   "outputs": [
    {
     "data": {
      "application/vnd.google.colaboratory.intrinsic+json": {
       "type": "string"
      },
      "text/plain": [
       "'[CLS] the rock is destined to be the 21st century \\' s new \" conan \" and that he \\' s going to make a splash even greater than arnold schwarzenegger, jean - claud van damme or steven segal. [SEP] [PAD] [PAD] [PAD] [PAD] [PAD]'"
      ]
     },
     "execution_count": 12,
     "metadata": {},
     "output_type": "execute_result"
    }
   ],
   "source": [
    "tokenizer.decode(inputs['input_ids'][0]) # decode the first sample (convert from token ids to string), the [CLS] token is the first one. [CLS] is the classification token, [SEP] is the separator token, [PAD] is the padding token. The [CLS] token is used for classification tasks ..."
   ]
  },
  {
   "cell_type": "markdown",
   "id": "ec0f6fd4-b80b-466d-b4ff-9aac0492c062",
   "metadata": {
    "id": "ec0f6fd4-b80b-466d-b4ff-9aac0492c062"
   },
   "source": [
    "#### Exercise 1.3: A Stable Baseline\n",
    "\n",
    "In this exercise I want you to:\n",
    "1. Use Distilbert as a *feature extractor* to extract representations of the text strings from the dataset splits;\n",
    "2. Train a classifier (your choice, by an SVM from Scikit-learn is an easy choice).\n",
    "3. Evaluate performance on the validation and test splits.\n",
    "\n",
    "These results are our *stable baseline* -- the **starting** point on which we will (hopefully) improve in the next exercise.\n",
    "\n",
    "**Hint**: There are a number of ways to implement the feature extractor, but probably the best is to use a [feature extraction `pipeline`](https://huggingface.co/tasks/feature-extraction). You will need to interpret the output of the pipeline and extract only the `[CLS]` token from the *last* transformer layer. *How can you figure out which output that is?*"
   ]
  },
  {
   "cell_type": "code",
   "execution_count": 13,
   "id": "ebb961ab-aa24-4d5c-86a1-c9b4237b40fc",
   "metadata": {
    "ExecuteTime": {
     "end_time": "2025-05-21T09:24:40.804450Z",
     "start_time": "2025-05-21T09:24:40.253841Z"
    },
    "colab": {
     "base_uri": "https://localhost:8080/"
    },
    "executionInfo": {
     "elapsed": 621,
     "status": "ok",
     "timestamp": 1747821863342,
     "user": {
      "displayName": "marco di gesare",
      "userId": "15374948535353059038"
     },
     "user_tz": -120
    },
    "id": "ebb961ab-aa24-4d5c-86a1-c9b4237b40fc",
    "outputId": "2caa8343-cca5-4f24-fefa-c0bbf9dca7cb"
   },
   "outputs": [
    {
     "name": "stderr",
     "output_type": "stream",
     "text": [
      "Device set to use cuda:0\n"
     ]
    }
   ],
   "source": [
    "# Your code here.\n",
    "from transformers import pipeline\n",
    "\n",
    "extractor = pipeline('feature-extraction', model=model, tokenizer=tokenizer) # feature extraction pipeline"
   ]
  },
  {
   "cell_type": "code",
   "execution_count": 14,
   "id": "5056062c76e16f0d",
   "metadata": {
    "ExecuteTime": {
     "end_time": "2025-05-21T09:27:18.509176Z",
     "start_time": "2025-05-21T09:25:27.243817Z"
    },
    "executionInfo": {
     "elapsed": 52338,
     "status": "ok",
     "timestamp": 1747821916906,
     "user": {
      "displayName": "marco di gesare",
      "userId": "15374948535353059038"
     },
     "user_tz": -120
    },
    "id": "5056062c76e16f0d"
   },
   "outputs": [],
   "source": [
    "import torch\n",
    "\n",
    "def extract_features(ds):\n",
    "   features = extractor(ds['text'], return_tensors='pt')\n",
    "   return torch.vstack([fets[0][0] for fets in features]) # use this\n",
    "\n",
    "Xs_train = extract_features(ds_train)\n",
    "ys_train = ds_train['label']\n",
    "Xs_val = extract_features(ds_val)\n",
    "ys_val = ds_val['label']\n",
    "Xs_test = extract_features(ds_test)\n",
    "ys_test = ds_test['label']"
   ]
  },
  {
   "cell_type": "code",
   "execution_count": 15,
   "id": "fb6eec7445f462dc",
   "metadata": {
    "ExecuteTime": {
     "end_time": "2025-05-21T09:28:03.377237Z",
     "start_time": "2025-05-21T09:28:03.367325Z"
    },
    "colab": {
     "base_uri": "https://localhost:8080/"
    },
    "executionInfo": {
     "elapsed": 12,
     "status": "ok",
     "timestamp": 1747821923800,
     "user": {
      "displayName": "marco di gesare",
      "userId": "15374948535353059038"
     },
     "user_tz": -120
    },
    "id": "fb6eec7445f462dc",
    "outputId": "07013430-18ce-4567-fcbd-61e85558944a"
   },
   "outputs": [
    {
     "name": "stdout",
     "output_type": "stream",
     "text": [
      "torch.Size([8530, 768]) 8530\n",
      "torch.Size([1066, 768]) 1066\n",
      "torch.Size([1066, 768]) 1066\n"
     ]
    }
   ],
   "source": [
    "# check the shape of the features\n",
    "print(Xs_train.shape, len(ys_train))\n",
    "print(Xs_val.shape, len(ys_val))\n",
    "print(Xs_test.shape, len(ys_test))"
   ]
  },
  {
   "cell_type": "code",
   "execution_count": 16,
   "id": "d993871afc8d44af",
   "metadata": {
    "ExecuteTime": {
     "end_time": "2025-05-21T09:28:54.376336Z",
     "start_time": "2025-05-21T09:28:54.344287Z"
    },
    "colab": {
     "base_uri": "https://localhost:8080/"
    },
    "executionInfo": {
     "elapsed": 17,
     "status": "ok",
     "timestamp": 1747821926260,
     "user": {
      "displayName": "marco di gesare",
      "userId": "15374948535353059038"
     },
     "user_tz": -120
    },
    "id": "d993871afc8d44af",
    "outputId": "2eaeae44-6f80-4323-8116-57feb5f3f974"
   },
   "outputs": [
    {
     "data": {
      "text/plain": [
       "torch.Size([1, 47, 768])"
      ]
     },
     "execution_count": 16,
     "metadata": {},
     "output_type": "execute_result"
    }
   ],
   "source": [
    "extractor(ds_train[0]['text'], return_tensors='pt').shape"
   ]
  },
  {
   "cell_type": "code",
   "execution_count": null,
   "id": "e43fa3f1b9a84657",
   "metadata": {
    "ExecuteTime": {
     "end_time": "2025-05-21T09:29:22.330817Z",
     "start_time": "2025-05-21T09:29:11.212415Z"
    },
    "id": "e43fa3f1b9a84657"
   },
   "outputs": [],
   "source": [
    "extractor(ds_val['text'], return_tensors='pt')"
   ]
  },
  {
   "cell_type": "code",
   "execution_count": 17,
   "id": "ee66851c3b81680b",
   "metadata": {
    "ExecuteTime": {
     "end_time": "2025-05-21T09:29:44.507468Z",
     "start_time": "2025-05-21T09:29:39.706616Z"
    },
    "colab": {
     "base_uri": "https://localhost:8080/"
    },
    "executionInfo": {
     "elapsed": 9543,
     "status": "ok",
     "timestamp": 1747821964158,
     "user": {
      "displayName": "marco di gesare",
      "userId": "15374948535353059038"
     },
     "user_tz": -120
    },
    "id": "ee66851c3b81680b",
    "outputId": "9dcde73b-9848-4b29-b2ac-9d0357b789c4"
   },
   "outputs": [
    {
     "name": "stdout",
     "output_type": "stream",
     "text": [
      "              precision    recall  f1-score   support\n",
      "\n",
      "           0       0.81      0.84      0.83       533\n",
      "           1       0.84      0.80      0.82       533\n",
      "\n",
      "    accuracy                           0.82      1066\n",
      "   macro avg       0.82      0.82      0.82      1066\n",
      "weighted avg       0.82      0.82      0.82      1066\n",
      "\n",
      "              precision    recall  f1-score   support\n",
      "\n",
      "           0       0.79      0.81      0.80       533\n",
      "           1       0.81      0.78      0.79       533\n",
      "\n",
      "    accuracy                           0.80      1066\n",
      "   macro avg       0.80      0.80      0.80      1066\n",
      "weighted avg       0.80      0.80      0.80      1066\n",
      "\n"
     ]
    }
   ],
   "source": [
    "from sklearn.svm import LinearSVC\n",
    "from sklearn.metrics import classification_report\n",
    "\n",
    "svc = LinearSVC()\n",
    "svc.fit(Xs_train, ys_train) # train the classifier\n",
    "print(classification_report(ys_val, svc.predict(Xs_val))) # evaluate on the validation set\n",
    "print(classification_report(ys_test, svc.predict(Xs_test))) # evaluate on the test set"
   ]
  },
  {
   "cell_type": "markdown",
   "id": "37141d1b-935b-425c-804c-b9b487853791",
   "metadata": {
    "id": "37141d1b-935b-425c-804c-b9b487853791"
   },
   "source": [
    "-----\n",
    "### Exercise 2: Fine-tuning Distilbert"
   ]
  },
  {
   "cell_type": "markdown",
   "id": "b9a53f64-0238-42f2-bc20-86e51c77d2e5",
   "metadata": {
    "id": "b9a53f64-0238-42f2-bc20-86e51c77d2e5"
   },
   "source": [
    "In this exercise we will fine-tune the Distilbert model to (hopefully) improve sentiment analysis performance."
   ]
  },
  {
   "cell_type": "markdown",
   "id": "3392b1ed-597b-4a92-90fc-10eb11eac515",
   "metadata": {
    "id": "3392b1ed-597b-4a92-90fc-10eb11eac515"
   },
   "source": [
    "#### Exercise 2.1: Token Preprocessing\n",
    "\n",
    "The first thing we need to do is *tokenize* our dataset splits. Our current datasets return a dictionary with *strings*, but we want *input token ids* (i.e. the output of the tokenizer). This is easy enough to do my hand, but the HugginFace `Dataset` class provides convenient, efficient, and *lazy* methods. See the documentation for [`Dataset.map`](https://huggingface.co/docs/datasets/v3.5.0/en/package_reference/main_classes#datasets.Dataset.map).\n",
    "\n",
    "**Tip**: Verify that your new datasets are returning for every element: `text`, `label`, `intput_ids`, and `attention_mask`."
   ]
  },
  {
   "cell_type": "code",
   "execution_count": 18,
   "id": "9e6e2a95-5b08-4f81-b824-59a0fb3404e5",
   "metadata": {
    "ExecuteTime": {
     "end_time": "2025-05-21T09:30:06.466517Z",
     "start_time": "2025-05-21T09:30:05.050188Z"
    },
    "colab": {
     "base_uri": "https://localhost:8080/",
     "height": 113,
     "referenced_widgets": [
      "41db7bc74fa1426e8bc90c71349bb7f8",
      "3fec3b2bc93943c89087e23afafbcaf0",
      "161ddbde5b3c48fc8a253b3cfc03d29f",
      "7b1015ed6b4a482f95edb4b6c315cc4a",
      "3d92889792154a5a9abeb27288dc62e0",
      "306379471a564d75a5f891ea69ceda81",
      "0a0579d970934f5e863b84b449273e7b",
      "047b8025cde24361869346ff103e4448",
      "80ef3bcd34394bb197f822e3c959e7e4",
      "47bcdab5a32949249610bd7ba5eb3b84",
      "919d41e3296c4b3bb686dd786b8dc7c4",
      "e5e095c726254d88ba6a10f936be09ab",
      "51f9afa961824abaa6e58d2c92fd6511",
      "d55855bccf694a14bbecd66b7bef3889",
      "4294c6d691b14336858718ad40e646fd",
      "723656fe0a634618b01215d613cfb1c0",
      "08e1d278da5b47719c0c207ec8b3cec1",
      "7c6b691df464469997c6836f618b4174",
      "c5978c0e3974473a93ef8c153dbb3252",
      "a93fef3351194232b336c0a75da552bf",
      "0231ce9cdcb945dbb54719c13708487b",
      "d19a9c72e79c4b459acf40a89e45cef1",
      "4de6643268a141b1b9ec5e23412e7667",
      "7de91dcd6a0742e9a85be133ff151f6d",
      "8fb5dd3503cf45dc925244d2735eb19f",
      "928bff4600584cc4b19f351948d9ff05",
      "e0560aaa8c3241ce87879e5b91fd1fb8",
      "1fe473adc72b4822ad08e460dfe1de00",
      "d6ef15c5b44044939441059b908e6785",
      "ba7bce7486544508ad35e3dfff4d397e",
      "54dd1536b1884394bde4a647491a0b21",
      "78f8573694a54044918b7fee51faee88",
      "35ad291bcc6242e98e83fa7ec132c4cf"
     ]
    },
    "executionInfo": {
     "elapsed": 1997,
     "status": "ok",
     "timestamp": 1747821974855,
     "user": {
      "displayName": "marco di gesare",
      "userId": "15374948535353059038"
     },
     "user_tz": -120
    },
    "id": "9e6e2a95-5b08-4f81-b824-59a0fb3404e5",
    "outputId": "d0fdf8cc-3d98-4812-dbef-2a37b0c87864"
   },
   "outputs": [
    {
     "data": {
      "application/vnd.jupyter.widget-view+json": {
       "model_id": "41db7bc74fa1426e8bc90c71349bb7f8",
       "version_major": 2,
       "version_minor": 0
      },
      "text/plain": [
       "Map:   0%|          | 0/8530 [00:00<?, ? examples/s]"
      ]
     },
     "metadata": {},
     "output_type": "display_data"
    },
    {
     "data": {
      "application/vnd.jupyter.widget-view+json": {
       "model_id": "e5e095c726254d88ba6a10f936be09ab",
       "version_major": 2,
       "version_minor": 0
      },
      "text/plain": [
       "Map:   0%|          | 0/1066 [00:00<?, ? examples/s]"
      ]
     },
     "metadata": {},
     "output_type": "display_data"
    },
    {
     "data": {
      "application/vnd.jupyter.widget-view+json": {
       "model_id": "4de6643268a141b1b9ec5e23412e7667",
       "version_major": 2,
       "version_minor": 0
      },
      "text/plain": [
       "Map:   0%|          | 0/1066 [00:00<?, ? examples/s]"
      ]
     },
     "metadata": {},
     "output_type": "display_data"
    }
   ],
   "source": [
    "# Your code here.\n",
    "def preprocess_function(examples):\n",
    "    return tokenizer(examples['text'], padding=True, return_tensors='pt')\n",
    "\n",
    "#def preprocess_function(examples):\n",
    "#    encoding = tokenizer(examples['text'], padding=True, truncation=True)\n",
    "#    encoding[\"label\"] = examples[\"label\"]\n",
    "#    return encoding\n",
    "\n",
    "tokenized_train = ds_train.map(preprocess_function, batched=True) # map create a new dataset. In this case create a tokenized dataset\n",
    "tokenized_val = ds_val.map(preprocess_function, batched=True)\n",
    "tokenized_test = ds_test.map(preprocess_function, batched=True)"
   ]
  },
  {
   "cell_type": "markdown",
   "id": "62a80de2-83c9-4c12-af4e-34babe23ffd1",
   "metadata": {
    "id": "62a80de2-83c9-4c12-af4e-34babe23ffd1"
   },
   "source": [
    "#### Exercise 2.2: Setting up the Model to be Fine-tuned\n",
    "\n",
    "In this exercise we need to prepare the base Distilbert model for fine-tuning for a *sequence classification task*. This means, at the very least, appending a new, randomly-initialized classification head connected to the `[CLS]` token of the last transformer layer. Luckily, HuggingFace already provides an `AutoModel` for just this type of instantiation: [`AutoModelForSequenceClassification`](https://huggingface.co/transformers/v3.0.2/model_doc/auto.html#automodelforsequenceclassification). You will want you instantiate one of these for fine-tuning."
   ]
  },
  {
   "cell_type": "code",
   "execution_count": 19,
   "id": "a6327d73-3b71-478a-9932-bb062a650c57",
   "metadata": {
    "ExecuteTime": {
     "end_time": "2025-05-21T09:30:19.133384Z",
     "start_time": "2025-05-21T09:30:18.850339Z"
    },
    "colab": {
     "base_uri": "https://localhost:8080/"
    },
    "executionInfo": {
     "elapsed": 129,
     "status": "ok",
     "timestamp": 1747821977784,
     "user": {
      "displayName": "marco di gesare",
      "userId": "15374948535353059038"
     },
     "user_tz": -120
    },
    "id": "a6327d73-3b71-478a-9932-bb062a650c57",
    "outputId": "21d90fb6-c9c9-4707-a1e7-01f986358049"
   },
   "outputs": [
    {
     "name": "stderr",
     "output_type": "stream",
     "text": [
      "Some weights of DistilBertForSequenceClassification were not initialized from the model checkpoint at distilbert-base-uncased and are newly initialized: ['classifier.bias', 'classifier.weight', 'pre_classifier.bias', 'pre_classifier.weight']\n",
      "You should probably TRAIN this model on a down-stream task to be able to use it for predictions and inference.\n"
     ]
    }
   ],
   "source": [
    "# Your code here.\n",
    "from transformers import AutoModelForSequenceClassification\n",
    "\n",
    "model = AutoModelForSequenceClassification.from_pretrained(model_id, num_labels=2) # load the model for sequence classification"
   ]
  },
  {
   "cell_type": "markdown",
   "id": "d109f7bd-955f-4fc4-bc3e-75bd99a17adf",
   "metadata": {
    "id": "d109f7bd-955f-4fc4-bc3e-75bd99a17adf"
   },
   "source": [
    "#### Exercise 2.3: Fine-tuning Distilbert\n",
    "\n",
    "Finally. In this exercise you should use a HuggingFace [`Trainer`](https://huggingface.co/docs/transformers/main/en/trainer) to fine-tune your model on the Rotten Tomatoes training split. Setting up the trainer will involve (at least):\n",
    "\n",
    "\n",
    "1. Instantiating a [`DataCollatorWithPadding`](https://huggingface.co/docs/transformers/en/main_classes/data_collator) object which is what *actually* does your batch construction (by padding all sequences to the same length).\n",
    "2. Writing an *evaluation function* that will measure the classification accuracy. This function takes a single argument which is a tuple containing `(logits, labels)` which you should use to compute classification accuracy (and maybe other metrics like F1 score, precision, recall) and return a `dict` with these metrics.  \n",
    "3. Instantiating a [`TrainingArguments`](https://huggingface.co/docs/transformers/v4.51.1/en/main_classes/trainer#transformers.TrainingArguments) object using some reasonable defaults.\n",
    "4. Instantiating a `Trainer` object using your train and validation splits, you data collator, and function to compute performance metrics.\n",
    "5. Calling `trainer.train()`, waiting, waiting some more, and then calling `trainer.evaluate()` to see how it did.\n",
    "\n",
    "**Tip**: When prototyping this laboratory I discovered the HuggingFace [Evaluate library](https://huggingface.co/docs/evaluate/en/index) which provides evaluation metrics. However I found it to have insufferable layers of abstraction and getting actual metrics computed. I suggest just using the Scikit-learn metrics..."
   ]
  },
  {
   "cell_type": "code",
   "execution_count": 20,
   "id": "ab17178d-5028-47e3-af97-953e8de5aae4",
   "metadata": {
    "ExecuteTime": {
     "end_time": "2025-05-21T09:30:45.335693Z",
     "start_time": "2025-05-21T09:30:45.328858Z"
    },
    "executionInfo": {
     "elapsed": 5,
     "status": "ok",
     "timestamp": 1747821979878,
     "user": {
      "displayName": "marco di gesare",
      "userId": "15374948535353059038"
     },
     "user_tz": -120
    },
    "id": "ab17178d-5028-47e3-af97-953e8de5aae4"
   },
   "outputs": [],
   "source": [
    "# Your code here.\n",
    "from transformers import DataCollatorWithPadding\n",
    "\n",
    "data_collator = DataCollatorWithPadding(tokenizer=tokenizer) # it's like data loader"
   ]
  },
  {
   "cell_type": "code",
   "execution_count": 23,
   "id": "ef0eacf37e0b3513",
   "metadata": {
    "ExecuteTime": {
     "end_time": "2025-05-21T09:31:03.597449Z",
     "start_time": "2025-05-21T09:31:03.528569Z"
    },
    "executionInfo": {
     "elapsed": 5,
     "status": "ok",
     "timestamp": 1747822018041,
     "user": {
      "displayName": "marco di gesare",
      "userId": "15374948535353059038"
     },
     "user_tz": -120
    },
    "id": "ef0eacf37e0b3513"
   },
   "outputs": [],
   "source": [
    "#!pip install evaluate\n",
    "import numpy as np\n",
    "import evaluate # HuggingFace Evaluate library\n",
    "\n",
    "def compute_metrics(eval_pred):\n",
    "    load_accuracy = evaluate.load(\"accuracy\")\n",
    "    load_f1 = evaluate.load(\"f1\")\n",
    "    (logits, labels) = eval_pred\n",
    "    predictions = np.argmax(logits, axis=1)\n",
    "    accuracy = load_accuracy.compute(predictions=predictions, references=labels)['accuracy']\n",
    "    f1 = load_f1.compute(predictions=predictions, references=labels)['f1']\n",
    "    return {\"accuracy\": accuracy, \"f1\": f1}"
   ]
  },
  {
   "cell_type": "code",
   "execution_count": 27,
   "id": "8ea4acde690f6c4b",
   "metadata": {
    "ExecuteTime": {
     "end_time": "2025-05-21T09:34:23.900671Z",
     "start_time": "2025-05-21T09:34:23.399956Z"
    },
    "executionInfo": {
     "elapsed": 55,
     "status": "ok",
     "timestamp": 1747822382833,
     "user": {
      "displayName": "marco di gesare",
      "userId": "15374948535353059038"
     },
     "user_tz": -120
    },
    "id": "8ea4acde690f6c4b"
   },
   "outputs": [],
   "source": [
    "from transformers import TrainingArguments, Trainer\n",
    "training_args = TrainingArguments(\n",
    "    output_dir='./output',\n",
    "    learning_rate=2e-5,\n",
    "    per_device_train_batch_size=64, # batch size for each device\n",
    "    per_device_eval_batch_size=64,\n",
    "    num_train_epochs=2,\n",
    "    use_cpu=False,\n",
    "    save_strategy='epoch',\n",
    "    do_eval=True,\n",
    "    eval_strategy='epoch'\n",
    ")\n",
    "\n",
    "trainer = Trainer(\n",
    "    model=model,\n",
    "    args=training_args,\n",
    "    train_dataset=tokenized_train,\n",
    "    eval_dataset=tokenized_val,\n",
    "    data_collator=data_collator,\n",
    "    compute_metrics=compute_metrics\n",
    ")"
   ]
  },
  {
   "cell_type": "code",
   "execution_count": 28,
   "id": "8f34f8e2bd6d258e",
   "metadata": {
    "ExecuteTime": {
     "end_time": "2025-05-21T09:33:16.882966Z",
     "start_time": "2025-05-21T09:33:16.066809Z"
    },
    "colab": {
     "base_uri": "https://localhost:8080/",
     "height": 517,
     "referenced_widgets": [
      "3c7bf057dd32434385f4af9fd3271ad1",
      "9fff00e05ea54b2fabc5272cb946fdc5",
      "a64a5c6d478d468d86cdf807f039da2a",
      "aaaad8b8af9644848f797117b45d799b",
      "e274da43f5174b509951cbfb892fd4e0",
      "b52313507ee24543af46083df64da394",
      "81a151115859471eade407d0e6ce9f37",
      "2e4b8ad220634bc48f7fb292af008c97",
      "cb6be6de9e4f4a4999b15fdada8f9aa1",
      "d2ef0ec638634fd2b97dcfc84439df92",
      "84cced36eecc400a90a78b1f660d0b62",
      "1851a740458d402b8bff5c85e6391e95",
      "c593a7dec90346ffb3445cac37a85e4d",
      "980501a1ee5347f4a777fec24a0428e3",
      "2ca446fc0ac5426283a956629cf39290",
      "e87e57648a34403ba544172790414040",
      "d66e3715036941678f2734f3a15b027f",
      "da1d9a63e37c4475a7a237b91ddb172e",
      "f825099c04be47e9ba90ced5ec0a5973",
      "687ae21dafed4996af3b1a4aae69469b",
      "086821696a98450f96c9bb4ca690d189",
      "e181ab9cbac94f34bd7b9dc6572925af"
     ]
    },
    "executionInfo": {
     "elapsed": 167673,
     "status": "ok",
     "timestamp": 1747822554444,
     "user": {
      "displayName": "marco di gesare",
      "userId": "15374948535353059038"
     },
     "user_tz": -120
    },
    "id": "8f34f8e2bd6d258e",
    "outputId": "abd413e7-bb34-4e76-c15d-d43647273718"
   },
   "outputs": [
    {
     "data": {
      "application/javascript": [
       "\n",
       "        window._wandbApiKey = new Promise((resolve, reject) => {\n",
       "            function loadScript(url) {\n",
       "            return new Promise(function(resolve, reject) {\n",
       "                let newScript = document.createElement(\"script\");\n",
       "                newScript.onerror = reject;\n",
       "                newScript.onload = resolve;\n",
       "                document.body.appendChild(newScript);\n",
       "                newScript.src = url;\n",
       "            });\n",
       "            }\n",
       "            loadScript(\"https://cdn.jsdelivr.net/npm/postmate/build/postmate.min.js\").then(() => {\n",
       "            const iframe = document.createElement('iframe')\n",
       "            iframe.style.cssText = \"width:0;height:0;border:none\"\n",
       "            document.body.appendChild(iframe)\n",
       "            const handshake = new Postmate({\n",
       "                container: iframe,\n",
       "                url: 'https://wandb.ai/authorize'\n",
       "            });\n",
       "            const timeout = setTimeout(() => reject(\"Couldn't auto authenticate\"), 5000)\n",
       "            handshake.then(function(child) {\n",
       "                child.on('authorize', data => {\n",
       "                    clearTimeout(timeout)\n",
       "                    resolve(data)\n",
       "                });\n",
       "            });\n",
       "            })\n",
       "        });\n",
       "    "
      ],
      "text/plain": [
       "<IPython.core.display.Javascript object>"
      ]
     },
     "metadata": {},
     "output_type": "display_data"
    },
    {
     "name": "stderr",
     "output_type": "stream",
     "text": [
      "\u001b[34m\u001b[1mwandb\u001b[0m: Logging into wandb.ai. (Learn how to deploy a W&B server locally: https://wandb.me/wandb-server)\n",
      "\u001b[34m\u001b[1mwandb\u001b[0m: You can find your API key in your browser here: https://wandb.ai/authorize?ref=models\n",
      "wandb: Paste an API key from your profile and hit enter:"
     ]
    },
    {
     "name": "stdout",
     "output_type": "stream",
     "text": [
      " ··········\n"
     ]
    },
    {
     "name": "stderr",
     "output_type": "stream",
     "text": [
      "\u001b[34m\u001b[1mwandb\u001b[0m: \u001b[33mWARNING\u001b[0m If you're specifying your api key in code, ensure this code is not shared publicly.\n",
      "\u001b[34m\u001b[1mwandb\u001b[0m: \u001b[33mWARNING\u001b[0m Consider setting the WANDB_API_KEY environment variable, or running `wandb login` from the command line.\n",
      "\u001b[34m\u001b[1mwandb\u001b[0m: No netrc file found, creating one.\n",
      "\u001b[34m\u001b[1mwandb\u001b[0m: Appending key for api.wandb.ai to your netrc file: /root/.netrc\n",
      "\u001b[34m\u001b[1mwandb\u001b[0m: Currently logged in as: \u001b[33mmarco-digesare\u001b[0m (\u001b[33mmarco-digesare-university-of-florence\u001b[0m) to \u001b[32mhttps://api.wandb.ai\u001b[0m. Use \u001b[1m`wandb login --relogin`\u001b[0m to force relogin\n"
     ]
    },
    {
     "data": {
      "text/html": [
       "Tracking run with wandb version 0.19.11"
      ],
      "text/plain": [
       "<IPython.core.display.HTML object>"
      ]
     },
     "metadata": {},
     "output_type": "display_data"
    },
    {
     "data": {
      "text/html": [
       "Run data is saved locally in <code>/content/wandb/run-20250521_101341-yw7plx27</code>"
      ],
      "text/plain": [
       "<IPython.core.display.HTML object>"
      ]
     },
     "metadata": {},
     "output_type": "display_data"
    },
    {
     "data": {
      "text/html": [
       "Syncing run <strong><a href='https://wandb.ai/marco-digesare-university-of-florence/huggingface/runs/yw7plx27' target=\"_blank\">./output</a></strong> to <a href='https://wandb.ai/marco-digesare-university-of-florence/huggingface' target=\"_blank\">Weights & Biases</a> (<a href='https://wandb.me/developer-guide' target=\"_blank\">docs</a>)<br>"
      ],
      "text/plain": [
       "<IPython.core.display.HTML object>"
      ]
     },
     "metadata": {},
     "output_type": "display_data"
    },
    {
     "data": {
      "text/html": [
       " View project at <a href='https://wandb.ai/marco-digesare-university-of-florence/huggingface' target=\"_blank\">https://wandb.ai/marco-digesare-university-of-florence/huggingface</a>"
      ],
      "text/plain": [
       "<IPython.core.display.HTML object>"
      ]
     },
     "metadata": {},
     "output_type": "display_data"
    },
    {
     "data": {
      "text/html": [
       " View run at <a href='https://wandb.ai/marco-digesare-university-of-florence/huggingface/runs/yw7plx27' target=\"_blank\">https://wandb.ai/marco-digesare-university-of-florence/huggingface/runs/yw7plx27</a>"
      ],
      "text/plain": [
       "<IPython.core.display.HTML object>"
      ]
     },
     "metadata": {},
     "output_type": "display_data"
    },
    {
     "data": {
      "text/html": [
       "\n",
       "    <div>\n",
       "      \n",
       "      <progress value='268' max='268' style='width:300px; height:20px; vertical-align: middle;'></progress>\n",
       "      [268/268 02:07, Epoch 2/2]\n",
       "    </div>\n",
       "    <table border=\"1\" class=\"dataframe\">\n",
       "  <thead>\n",
       " <tr style=\"text-align: left;\">\n",
       "      <th>Epoch</th>\n",
       "      <th>Training Loss</th>\n",
       "      <th>Validation Loss</th>\n",
       "      <th>Accuracy</th>\n",
       "      <th>F1</th>\n",
       "    </tr>\n",
       "  </thead>\n",
       "  <tbody>\n",
       "    <tr>\n",
       "      <td>1</td>\n",
       "      <td>No log</td>\n",
       "      <td>0.365534</td>\n",
       "      <td>0.833959</td>\n",
       "      <td>0.832545</td>\n",
       "    </tr>\n",
       "    <tr>\n",
       "      <td>2</td>\n",
       "      <td>No log</td>\n",
       "      <td>0.356614</td>\n",
       "      <td>0.846154</td>\n",
       "      <td>0.846154</td>\n",
       "    </tr>\n",
       "  </tbody>\n",
       "</table><p>"
      ],
      "text/plain": [
       "<IPython.core.display.HTML object>"
      ]
     },
     "metadata": {},
     "output_type": "display_data"
    },
    {
     "data": {
      "application/vnd.jupyter.widget-view+json": {
       "model_id": "3c7bf057dd32434385f4af9fd3271ad1",
       "version_major": 2,
       "version_minor": 0
      },
      "text/plain": [
       "Downloading builder script:   0%|          | 0.00/4.20k [00:00<?, ?B/s]"
      ]
     },
     "metadata": {},
     "output_type": "display_data"
    },
    {
     "data": {
      "application/vnd.jupyter.widget-view+json": {
       "model_id": "1851a740458d402b8bff5c85e6391e95",
       "version_major": 2,
       "version_minor": 0
      },
      "text/plain": [
       "Downloading builder script:   0%|          | 0.00/6.79k [00:00<?, ?B/s]"
      ]
     },
     "metadata": {},
     "output_type": "display_data"
    },
    {
     "data": {
      "text/plain": [
       "TrainOutput(global_step=268, training_loss=0.38265567039375875, metrics={'train_runtime': 167.6195, 'train_samples_per_second': 101.778, 'train_steps_per_second': 1.599, 'total_flos': 344280699303840.0, 'train_loss': 0.38265567039375875, 'epoch': 2.0})"
      ]
     },
     "execution_count": 28,
     "metadata": {},
     "output_type": "execute_result"
    }
   ],
   "source": [
    "trainer.train()"
   ]
  },
  {
   "cell_type": "code",
   "execution_count": 29,
   "id": "0T782kWuV8ID",
   "metadata": {
    "colab": {
     "base_uri": "https://localhost:8080/",
     "height": 158
    },
    "executionInfo": {
     "elapsed": 3336,
     "status": "ok",
     "timestamp": 1747822582451,
     "user": {
      "displayName": "marco di gesare",
      "userId": "15374948535353059038"
     },
     "user_tz": -120
    },
    "id": "0T782kWuV8ID",
    "outputId": "139b03c2-8102-4c6e-e677-528db4e31362"
   },
   "outputs": [
    {
     "data": {
      "text/html": [
       "\n",
       "    <div>\n",
       "      \n",
       "      <progress value='17' max='17' style='width:300px; height:20px; vertical-align: middle;'></progress>\n",
       "      [17/17 00:02]\n",
       "    </div>\n",
       "    "
      ],
      "text/plain": [
       "<IPython.core.display.HTML object>"
      ]
     },
     "metadata": {},
     "output_type": "display_data"
    },
    {
     "data": {
      "text/plain": [
       "{'eval_loss': 0.35661381483078003,\n",
       " 'eval_accuracy': 0.8461538461538461,\n",
       " 'eval_f1': 0.8461538461538461,\n",
       " 'eval_runtime': 3.3203,\n",
       " 'eval_samples_per_second': 321.058,\n",
       " 'eval_steps_per_second': 5.12,\n",
       " 'epoch': 2.0}"
      ]
     },
     "execution_count": 29,
     "metadata": {},
     "output_type": "execute_result"
    }
   ],
   "source": [
    "trainer.evaluate()"
   ]
  },
  {
   "cell_type": "markdown",
   "id": "fc8376de-8554-4a13-aac3-59257f3eb3fd",
   "metadata": {
    "id": "fc8376de-8554-4a13-aac3-59257f3eb3fd"
   },
   "source": [
    "-----\n",
    "### Exercise 3: Choose at Least One\n"
   ]
  },
  {
   "cell_type": "markdown",
   "id": "9b55cf4d-e64b-47fc-b8d5-37288b72d90d",
   "metadata": {
    "id": "9b55cf4d-e64b-47fc-b8d5-37288b72d90d"
   },
   "source": [
    "#### Exercise 3.1: Efficient Fine-tuning for Sentiment Analysis (easy)"
   ]
  },
  {
   "cell_type": "markdown",
   "id": "6f183856-1111-4fe9-81f1-691fe7c1b706",
   "metadata": {
    "id": "6f183856-1111-4fe9-81f1-691fe7c1b706"
   },
   "source": [
    "In Exercise 2 we fine-tuned the *entire* Distilbert model on Rotten Tomatoes. This is expensive, even for a small model. Find an *efficient* way to fine-tune Distilbert on the Rotten Tomatoes dataset (or some other dataset).\n",
    "\n",
    "**Hint**: You could check out the [HuggingFace PEFT library](https://huggingface.co/docs/peft/en/index) for some state-of-the-art approaches that should \"just work\". How else might you go about making fine-tuning more efficient without having to change your training pipeline from above?"
   ]
  },
  {
   "cell_type": "code",
   "execution_count": 31,
   "id": "b71bb7fcb0062daf",
   "metadata": {
    "ExecuteTime": {
     "end_time": "2025-05-19T10:22:04.561497Z",
     "start_time": "2025-05-19T10:22:04.116230Z"
    },
    "colab": {
     "base_uri": "https://localhost:8080/"
    },
    "executionInfo": {
     "elapsed": 175,
     "status": "ok",
     "timestamp": 1747822736129,
     "user": {
      "displayName": "marco di gesare",
      "userId": "15374948535353059038"
     },
     "user_tz": -120
    },
    "id": "b71bb7fcb0062daf",
    "outputId": "c6add81f-c7e7-4368-a401-92085c10ac4b"
   },
   "outputs": [
    {
     "name": "stdout",
     "output_type": "stream",
     "text": [
      "trainable params: 1,181,954 || all params: 68,136,964 || trainable%: 1.7347\n"
     ]
    }
   ],
   "source": [
    "from peft import get_peft_model, LoraConfig, TaskType\n",
    "\n",
    "lora_config = LoraConfig(\n",
    "    task_type=TaskType.SEQ_CLS, # sequence classification\n",
    "    inference_mode=False, # inference mode is False for training\n",
    "    r=16, # rank, it indicates the number of low-rank matrices to be used\n",
    "    lora_alpha=32, # alpha, it indicates the scaling factor for the low-rank matrices\n",
    "    lora_dropout=0.1,\n",
    "    target_modules=[\"q_lin\", \"k_lin\", \"v_lin\", \"out_lin\"] # Add the target modules here\n",
    ")\n",
    "peft_model = get_peft_model(model, lora_config) # get the peft model\n",
    "peft_model.print_trainable_parameters() # print the trainable parameters"
   ]
  },
  {
   "cell_type": "code",
   "execution_count": 32,
   "id": "6202d636a70e18bd",
   "metadata": {
    "colab": {
     "base_uri": "https://localhost:8080/"
    },
    "executionInfo": {
     "elapsed": 61,
     "status": "ok",
     "timestamp": 1747822743408,
     "user": {
      "displayName": "marco di gesare",
      "userId": "15374948535353059038"
     },
     "user_tz": -120
    },
    "id": "6202d636a70e18bd",
    "outputId": "86d5592f-c170-48f9-da7f-cf6c4ad8fc6c"
   },
   "outputs": [
    {
     "name": "stderr",
     "output_type": "stream",
     "text": [
      "No label_names provided for model class `PeftModelForSequenceClassification`. Since `PeftModel` hides base models input arguments, if label_names is not given, label_names can't be set automatically within `Trainer`. Note that empty label_names list will be used instead.\n"
     ]
    }
   ],
   "source": [
    "from transformers import Trainer\n",
    "training_args = TrainingArguments(\n",
    "    output_dir='./output',\n",
    "    learning_rate=2e-5,\n",
    "    per_device_train_batch_size=64, # batch size for each device\n",
    "    per_device_eval_batch_size=64,\n",
    "    num_train_epochs=2,\n",
    "    use_cpu=False,\n",
    "    save_strategy='epoch',\n",
    "    do_eval=True,\n",
    "    eval_strategy='epoch'\n",
    ")\n",
    "\n",
    "trainer = Trainer(\n",
    "    model=peft_model,\n",
    "    args=training_args,\n",
    "    train_dataset=tokenized_train,\n",
    "    eval_dataset=tokenized_val,\n",
    "    data_collator=data_collator,\n",
    "    compute_metrics=compute_metrics\n",
    ")"
   ]
  },
  {
   "cell_type": "code",
   "execution_count": 33,
   "id": "d3f62f0d4c3dbb16",
   "metadata": {
    "colab": {
     "base_uri": "https://localhost:8080/",
     "height": 190
    },
    "executionInfo": {
     "elapsed": 90278,
     "status": "ok",
     "timestamp": 1747822838614,
     "user": {
      "displayName": "marco di gesare",
      "userId": "15374948535353059038"
     },
     "user_tz": -120
    },
    "id": "d3f62f0d4c3dbb16",
    "outputId": "214c3fa2-d7f5-4521-c7a1-5c7887be7726"
   },
   "outputs": [
    {
     "data": {
      "text/html": [
       "\n",
       "    <div>\n",
       "      \n",
       "      <progress value='268' max='268' style='width:300px; height:20px; vertical-align: middle;'></progress>\n",
       "      [268/268 01:29, Epoch 2/2]\n",
       "    </div>\n",
       "    <table border=\"1\" class=\"dataframe\">\n",
       "  <thead>\n",
       " <tr style=\"text-align: left;\">\n",
       "      <th>Epoch</th>\n",
       "      <th>Training Loss</th>\n",
       "      <th>Validation Loss</th>\n",
       "      <th>Accuracy</th>\n",
       "      <th>F1</th>\n",
       "    </tr>\n",
       "  </thead>\n",
       "  <tbody>\n",
       "    <tr>\n",
       "      <td>1</td>\n",
       "      <td>No log</td>\n",
       "      <td>0.370834</td>\n",
       "      <td>0.845216</td>\n",
       "      <td>0.845650</td>\n",
       "    </tr>\n",
       "    <tr>\n",
       "      <td>2</td>\n",
       "      <td>No log</td>\n",
       "      <td>0.370040</td>\n",
       "      <td>0.844278</td>\n",
       "      <td>0.844860</td>\n",
       "    </tr>\n",
       "  </tbody>\n",
       "</table><p>"
      ],
      "text/plain": [
       "<IPython.core.display.HTML object>"
      ]
     },
     "metadata": {},
     "output_type": "display_data"
    },
    {
     "data": {
      "text/plain": [
       "TrainOutput(global_step=268, training_loss=0.26939375009109723, metrics={'train_runtime': 89.7477, 'train_samples_per_second': 190.088, 'train_steps_per_second': 2.986, 'total_flos': 353717514596160.0, 'train_loss': 0.26939375009109723, 'epoch': 2.0})"
      ]
     },
     "execution_count": 33,
     "metadata": {},
     "output_type": "execute_result"
    }
   ],
   "source": [
    "trainer.train()"
   ]
  },
  {
   "cell_type": "code",
   "execution_count": 34,
   "id": "nslwmrTKXDjs",
   "metadata": {
    "colab": {
     "base_uri": "https://localhost:8080/",
     "height": 158
    },
    "executionInfo": {
     "elapsed": 3620,
     "status": "ok",
     "timestamp": 1747822868809,
     "user": {
      "displayName": "marco di gesare",
      "userId": "15374948535353059038"
     },
     "user_tz": -120
    },
    "id": "nslwmrTKXDjs",
    "outputId": "ae7b1f12-44d8-4803-a2e7-7ef992bada58"
   },
   "outputs": [
    {
     "data": {
      "text/html": [
       "\n",
       "    <div>\n",
       "      \n",
       "      <progress value='17' max='17' style='width:300px; height:20px; vertical-align: middle;'></progress>\n",
       "      [17/17 00:02]\n",
       "    </div>\n",
       "    "
      ],
      "text/plain": [
       "<IPython.core.display.HTML object>"
      ]
     },
     "metadata": {},
     "output_type": "display_data"
    },
    {
     "data": {
      "text/plain": [
       "{'eval_loss': 0.37003982067108154,\n",
       " 'eval_accuracy': 0.8442776735459663,\n",
       " 'eval_f1': 0.8448598130841122,\n",
       " 'eval_runtime': 3.563,\n",
       " 'eval_samples_per_second': 299.187,\n",
       " 'eval_steps_per_second': 4.771,\n",
       " 'epoch': 2.0}"
      ]
     },
     "execution_count": 34,
     "metadata": {},
     "output_type": "execute_result"
    }
   ],
   "source": [
    "trainer.evaluate()"
   ]
  },
  {
   "cell_type": "code",
   "execution_count": null,
   "id": "00b59ec2-4fe6-44c6-ab0b-0069f486bbb5",
   "metadata": {
    "id": "00b59ec2-4fe6-44c6-ab0b-0069f486bbb5"
   },
   "outputs": [],
   "source": [
    "# Your code here."
   ]
  },
  {
   "cell_type": "markdown",
   "id": "qJv8PCMMXRgF",
   "metadata": {
    "id": "qJv8PCMMXRgF"
   },
   "source": [
    "#### Exercise 3.2: Fine-tuning a CLIP Model (harder)\n",
    "\n",
    "Use a (small) CLIP model like [`openai/clip-vit-base-patch16`](https://huggingface.co/openai/clip-vit-base-patch16) and evaluate its zero-shot performance on a small image classification dataset like ImageNette or TinyImageNet. Fine-tune (using a parameter-efficient method!) the CLIP model to see how much improvement you can squeeze out of it.\n",
    "\n",
    "**Note**: There are several ways to adapt the CLIP model; you could fine-tune the image encoder, the text encoder, or both. Or, you could experiment with prompt learning.\n",
    "\n",
    "**Tip**: CLIP probably already works very well on ImageNet and ImageNet-like images. For extra fun, look for an image classification dataset with different image types (e.g. *sketches*)."
   ]
  },
  {
   "cell_type": "markdown",
   "id": "fe42ed48-444d-47d4-bd8b-839a99e7996a",
   "metadata": {
    "id": "fe42ed48-444d-47d4-bd8b-839a99e7996a"
   },
   "source": [
    "#### Exercise 3.3: Choose your Own Adventure"
   ]
  },
  {
   "cell_type": "markdown",
   "id": "196f9129-ef2e-45f7-9e8f-baa697ccd91e",
   "metadata": {
    "id": "196f9129-ef2e-45f7-9e8f-baa697ccd91e"
   },
   "source": [
    "There are a *ton* of interesting and fun models on the HuggingFace hub. Pick one that does something interesting and adapt it in some way to a new task. Or, combine two or more models into something more interesting or fun. The sky's the limit.\n",
    "\n",
    "**Note**: Reach out to me by email or on the Discord if you are unsure about anything."
   ]
  },
  {
   "cell_type": "code",
   "execution_count": null,
   "id": "c150bd36-6535-4724-a06d-a61632d3132e",
   "metadata": {
    "id": "c150bd36-6535-4724-a06d-a61632d3132e"
   },
   "outputs": [],
   "source": [
    "# Your code here."
   ]
  }
 ],
 "metadata": {
  "accelerator": "GPU",
  "colab": {
   "gpuType": "T4",
   "provenance": []
  },
  "kernelspec": {
   "display_name": "Python 3 (ipykernel)",
   "language": "python",
   "name": "python3"
  },
  "language_info": {
   "codemirror_mode": {
    "name": "ipython",
    "version": 3
   },
   "file_extension": ".py",
   "mimetype": "text/x-python",
   "name": "python",
   "nbconvert_exporter": "python",
   "pygments_lexer": "ipython3",
   "version": "3.13.2"
  }
 },
 "nbformat": 4,
 "nbformat_minor": 5
}
